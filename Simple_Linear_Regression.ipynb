{
  "nbformat": 4,
  "nbformat_minor": 0,
  "metadata": {
    "colab": {
      "provenance": []
    },
    "kernelspec": {
      "name": "python3",
      "display_name": "Python 3"
    },
    "language_info": {
      "name": "python"
    }
  },
  "cells": [
    {
      "cell_type": "markdown",
      "source": [
        "# **Simple Linear Regression**"
      ],
      "metadata": {
        "id": "ift3My1FSVKQ"
      }
    },
    {
      "cell_type": "markdown",
      "source": [
        "###**INSTRUCTIONS**\n",
        "#####Provide your observation/summary for all tutorials and tasks. Marks will be deducted for those who dont write the summary.\n",
        "#####Print this file as pdf and submit both pdf and .ipynb file(No screenshots). Not submitting any of these files will impact their grades.\n"
      ],
      "metadata": {
        "id": "ITD7gZnnhyWm"
      }
    },
    {
      "cell_type": "markdown",
      "source": [
        "###Tutorial"
      ],
      "metadata": {
        "id": "NpQE_c3GYDnF"
      }
    },
    {
      "cell_type": "markdown",
      "source": [
        "###1.Importing the required libraries"
      ],
      "metadata": {
        "id": "A_FTv8SJYQpN"
      }
    },
    {
      "cell_type": "code",
      "execution_count": null,
      "metadata": {
        "colab": {
          "base_uri": "https://localhost:8080/",
          "height": 423
        },
        "id": "inx9qhSOm-mT",
        "outputId": "b83948b9-42ee-485d-d236-560c656420f7"
      },
      "outputs": [
        {
          "output_type": "execute_result",
          "data": {
            "text/plain": [
              "        TV  Radio  Newspaper  Sales\n",
              "0    230.1   37.8       69.2   22.1\n",
              "1     44.5   39.3       45.1   10.4\n",
              "2     17.2   45.9       69.3   12.0\n",
              "3    151.5   41.3       58.5   16.5\n",
              "4    180.8   10.8       58.4   17.9\n",
              "..     ...    ...        ...    ...\n",
              "195   38.2    3.7       13.8    7.6\n",
              "196   94.2    4.9        8.1   14.0\n",
              "197  177.0    9.3        6.4   14.8\n",
              "198  283.6   42.0       66.2   25.5\n",
              "199  232.1    8.6        8.7   18.4\n",
              "\n",
              "[200 rows x 4 columns]"
            ],
            "text/html": [
              "\n",
              "  <div id=\"df-86829e49-0f3f-4471-826b-b7b42244e51e\" class=\"colab-df-container\">\n",
              "    <div>\n",
              "<style scoped>\n",
              "    .dataframe tbody tr th:only-of-type {\n",
              "        vertical-align: middle;\n",
              "    }\n",
              "\n",
              "    .dataframe tbody tr th {\n",
              "        vertical-align: top;\n",
              "    }\n",
              "\n",
              "    .dataframe thead th {\n",
              "        text-align: right;\n",
              "    }\n",
              "</style>\n",
              "<table border=\"1\" class=\"dataframe\">\n",
              "  <thead>\n",
              "    <tr style=\"text-align: right;\">\n",
              "      <th></th>\n",
              "      <th>TV</th>\n",
              "      <th>Radio</th>\n",
              "      <th>Newspaper</th>\n",
              "      <th>Sales</th>\n",
              "    </tr>\n",
              "  </thead>\n",
              "  <tbody>\n",
              "    <tr>\n",
              "      <th>0</th>\n",
              "      <td>230.1</td>\n",
              "      <td>37.8</td>\n",
              "      <td>69.2</td>\n",
              "      <td>22.1</td>\n",
              "    </tr>\n",
              "    <tr>\n",
              "      <th>1</th>\n",
              "      <td>44.5</td>\n",
              "      <td>39.3</td>\n",
              "      <td>45.1</td>\n",
              "      <td>10.4</td>\n",
              "    </tr>\n",
              "    <tr>\n",
              "      <th>2</th>\n",
              "      <td>17.2</td>\n",
              "      <td>45.9</td>\n",
              "      <td>69.3</td>\n",
              "      <td>12.0</td>\n",
              "    </tr>\n",
              "    <tr>\n",
              "      <th>3</th>\n",
              "      <td>151.5</td>\n",
              "      <td>41.3</td>\n",
              "      <td>58.5</td>\n",
              "      <td>16.5</td>\n",
              "    </tr>\n",
              "    <tr>\n",
              "      <th>4</th>\n",
              "      <td>180.8</td>\n",
              "      <td>10.8</td>\n",
              "      <td>58.4</td>\n",
              "      <td>17.9</td>\n",
              "    </tr>\n",
              "    <tr>\n",
              "      <th>...</th>\n",
              "      <td>...</td>\n",
              "      <td>...</td>\n",
              "      <td>...</td>\n",
              "      <td>...</td>\n",
              "    </tr>\n",
              "    <tr>\n",
              "      <th>195</th>\n",
              "      <td>38.2</td>\n",
              "      <td>3.7</td>\n",
              "      <td>13.8</td>\n",
              "      <td>7.6</td>\n",
              "    </tr>\n",
              "    <tr>\n",
              "      <th>196</th>\n",
              "      <td>94.2</td>\n",
              "      <td>4.9</td>\n",
              "      <td>8.1</td>\n",
              "      <td>14.0</td>\n",
              "    </tr>\n",
              "    <tr>\n",
              "      <th>197</th>\n",
              "      <td>177.0</td>\n",
              "      <td>9.3</td>\n",
              "      <td>6.4</td>\n",
              "      <td>14.8</td>\n",
              "    </tr>\n",
              "    <tr>\n",
              "      <th>198</th>\n",
              "      <td>283.6</td>\n",
              "      <td>42.0</td>\n",
              "      <td>66.2</td>\n",
              "      <td>25.5</td>\n",
              "    </tr>\n",
              "    <tr>\n",
              "      <th>199</th>\n",
              "      <td>232.1</td>\n",
              "      <td>8.6</td>\n",
              "      <td>8.7</td>\n",
              "      <td>18.4</td>\n",
              "    </tr>\n",
              "  </tbody>\n",
              "</table>\n",
              "<p>200 rows × 4 columns</p>\n",
              "</div>\n",
              "    <div class=\"colab-df-buttons\">\n",
              "\n",
              "  <div class=\"colab-df-container\">\n",
              "    <button class=\"colab-df-convert\" onclick=\"convertToInteractive('df-86829e49-0f3f-4471-826b-b7b42244e51e')\"\n",
              "            title=\"Convert this dataframe to an interactive table.\"\n",
              "            style=\"display:none;\">\n",
              "\n",
              "  <svg xmlns=\"http://www.w3.org/2000/svg\" height=\"24px\" viewBox=\"0 -960 960 960\">\n",
              "    <path d=\"M120-120v-720h720v720H120Zm60-500h600v-160H180v160Zm220 220h160v-160H400v160Zm0 220h160v-160H400v160ZM180-400h160v-160H180v160Zm440 0h160v-160H620v160ZM180-180h160v-160H180v160Zm440 0h160v-160H620v160Z\"/>\n",
              "  </svg>\n",
              "    </button>\n",
              "\n",
              "  <style>\n",
              "    .colab-df-container {\n",
              "      display:flex;\n",
              "      gap: 12px;\n",
              "    }\n",
              "\n",
              "    .colab-df-convert {\n",
              "      background-color: #E8F0FE;\n",
              "      border: none;\n",
              "      border-radius: 50%;\n",
              "      cursor: pointer;\n",
              "      display: none;\n",
              "      fill: #1967D2;\n",
              "      height: 32px;\n",
              "      padding: 0 0 0 0;\n",
              "      width: 32px;\n",
              "    }\n",
              "\n",
              "    .colab-df-convert:hover {\n",
              "      background-color: #E2EBFA;\n",
              "      box-shadow: 0px 1px 2px rgba(60, 64, 67, 0.3), 0px 1px 3px 1px rgba(60, 64, 67, 0.15);\n",
              "      fill: #174EA6;\n",
              "    }\n",
              "\n",
              "    .colab-df-buttons div {\n",
              "      margin-bottom: 4px;\n",
              "    }\n",
              "\n",
              "    [theme=dark] .colab-df-convert {\n",
              "      background-color: #3B4455;\n",
              "      fill: #D2E3FC;\n",
              "    }\n",
              "\n",
              "    [theme=dark] .colab-df-convert:hover {\n",
              "      background-color: #434B5C;\n",
              "      box-shadow: 0px 1px 3px 1px rgba(0, 0, 0, 0.15);\n",
              "      filter: drop-shadow(0px 1px 2px rgba(0, 0, 0, 0.3));\n",
              "      fill: #FFFFFF;\n",
              "    }\n",
              "  </style>\n",
              "\n",
              "    <script>\n",
              "      const buttonEl =\n",
              "        document.querySelector('#df-86829e49-0f3f-4471-826b-b7b42244e51e button.colab-df-convert');\n",
              "      buttonEl.style.display =\n",
              "        google.colab.kernel.accessAllowed ? 'block' : 'none';\n",
              "\n",
              "      async function convertToInteractive(key) {\n",
              "        const element = document.querySelector('#df-86829e49-0f3f-4471-826b-b7b42244e51e');\n",
              "        const dataTable =\n",
              "          await google.colab.kernel.invokeFunction('convertToInteractive',\n",
              "                                                    [key], {});\n",
              "        if (!dataTable) return;\n",
              "\n",
              "        const docLinkHtml = 'Like what you see? Visit the ' +\n",
              "          '<a target=\"_blank\" href=https://colab.research.google.com/notebooks/data_table.ipynb>data table notebook</a>'\n",
              "          + ' to learn more about interactive tables.';\n",
              "        element.innerHTML = '';\n",
              "        dataTable['output_type'] = 'display_data';\n",
              "        await google.colab.output.renderOutput(dataTable, element);\n",
              "        const docLink = document.createElement('div');\n",
              "        docLink.innerHTML = docLinkHtml;\n",
              "        element.appendChild(docLink);\n",
              "      }\n",
              "    </script>\n",
              "  </div>\n",
              "\n",
              "\n",
              "<div id=\"df-35df0ed1-28b0-452e-8836-a39fec5dff75\">\n",
              "  <button class=\"colab-df-quickchart\" onclick=\"quickchart('df-35df0ed1-28b0-452e-8836-a39fec5dff75')\"\n",
              "            title=\"Suggest charts.\"\n",
              "            style=\"display:none;\">\n",
              "\n",
              "<svg xmlns=\"http://www.w3.org/2000/svg\" height=\"24px\"viewBox=\"0 0 24 24\"\n",
              "     width=\"24px\">\n",
              "    <g>\n",
              "        <path d=\"M19 3H5c-1.1 0-2 .9-2 2v14c0 1.1.9 2 2 2h14c1.1 0 2-.9 2-2V5c0-1.1-.9-2-2-2zM9 17H7v-7h2v7zm4 0h-2V7h2v10zm4 0h-2v-4h2v4z\"/>\n",
              "    </g>\n",
              "</svg>\n",
              "  </button>\n",
              "\n",
              "<style>\n",
              "  .colab-df-quickchart {\n",
              "      --bg-color: #E8F0FE;\n",
              "      --fill-color: #1967D2;\n",
              "      --hover-bg-color: #E2EBFA;\n",
              "      --hover-fill-color: #174EA6;\n",
              "      --disabled-fill-color: #AAA;\n",
              "      --disabled-bg-color: #DDD;\n",
              "  }\n",
              "\n",
              "  [theme=dark] .colab-df-quickchart {\n",
              "      --bg-color: #3B4455;\n",
              "      --fill-color: #D2E3FC;\n",
              "      --hover-bg-color: #434B5C;\n",
              "      --hover-fill-color: #FFFFFF;\n",
              "      --disabled-bg-color: #3B4455;\n",
              "      --disabled-fill-color: #666;\n",
              "  }\n",
              "\n",
              "  .colab-df-quickchart {\n",
              "    background-color: var(--bg-color);\n",
              "    border: none;\n",
              "    border-radius: 50%;\n",
              "    cursor: pointer;\n",
              "    display: none;\n",
              "    fill: var(--fill-color);\n",
              "    height: 32px;\n",
              "    padding: 0;\n",
              "    width: 32px;\n",
              "  }\n",
              "\n",
              "  .colab-df-quickchart:hover {\n",
              "    background-color: var(--hover-bg-color);\n",
              "    box-shadow: 0 1px 2px rgba(60, 64, 67, 0.3), 0 1px 3px 1px rgba(60, 64, 67, 0.15);\n",
              "    fill: var(--button-hover-fill-color);\n",
              "  }\n",
              "\n",
              "  .colab-df-quickchart-complete:disabled,\n",
              "  .colab-df-quickchart-complete:disabled:hover {\n",
              "    background-color: var(--disabled-bg-color);\n",
              "    fill: var(--disabled-fill-color);\n",
              "    box-shadow: none;\n",
              "  }\n",
              "\n",
              "  .colab-df-spinner {\n",
              "    border: 2px solid var(--fill-color);\n",
              "    border-color: transparent;\n",
              "    border-bottom-color: var(--fill-color);\n",
              "    animation:\n",
              "      spin 1s steps(1) infinite;\n",
              "  }\n",
              "\n",
              "  @keyframes spin {\n",
              "    0% {\n",
              "      border-color: transparent;\n",
              "      border-bottom-color: var(--fill-color);\n",
              "      border-left-color: var(--fill-color);\n",
              "    }\n",
              "    20% {\n",
              "      border-color: transparent;\n",
              "      border-left-color: var(--fill-color);\n",
              "      border-top-color: var(--fill-color);\n",
              "    }\n",
              "    30% {\n",
              "      border-color: transparent;\n",
              "      border-left-color: var(--fill-color);\n",
              "      border-top-color: var(--fill-color);\n",
              "      border-right-color: var(--fill-color);\n",
              "    }\n",
              "    40% {\n",
              "      border-color: transparent;\n",
              "      border-right-color: var(--fill-color);\n",
              "      border-top-color: var(--fill-color);\n",
              "    }\n",
              "    60% {\n",
              "      border-color: transparent;\n",
              "      border-right-color: var(--fill-color);\n",
              "    }\n",
              "    80% {\n",
              "      border-color: transparent;\n",
              "      border-right-color: var(--fill-color);\n",
              "      border-bottom-color: var(--fill-color);\n",
              "    }\n",
              "    90% {\n",
              "      border-color: transparent;\n",
              "      border-bottom-color: var(--fill-color);\n",
              "    }\n",
              "  }\n",
              "</style>\n",
              "\n",
              "  <script>\n",
              "    async function quickchart(key) {\n",
              "      const quickchartButtonEl =\n",
              "        document.querySelector('#' + key + ' button');\n",
              "      quickchartButtonEl.disabled = true;  // To prevent multiple clicks.\n",
              "      quickchartButtonEl.classList.add('colab-df-spinner');\n",
              "      try {\n",
              "        const charts = await google.colab.kernel.invokeFunction(\n",
              "            'suggestCharts', [key], {});\n",
              "      } catch (error) {\n",
              "        console.error('Error during call to suggestCharts:', error);\n",
              "      }\n",
              "      quickchartButtonEl.classList.remove('colab-df-spinner');\n",
              "      quickchartButtonEl.classList.add('colab-df-quickchart-complete');\n",
              "    }\n",
              "    (() => {\n",
              "      let quickchartButtonEl =\n",
              "        document.querySelector('#df-35df0ed1-28b0-452e-8836-a39fec5dff75 button');\n",
              "      quickchartButtonEl.style.display =\n",
              "        google.colab.kernel.accessAllowed ? 'block' : 'none';\n",
              "    })();\n",
              "  </script>\n",
              "</div>\n",
              "    </div>\n",
              "  </div>\n"
            ]
          },
          "metadata": {},
          "execution_count": 1
        }
      ],
      "source": [
        "# Importing naumpy and pandas libraries to read the data\n",
        "\n",
        "# Supress Warnings\n",
        "import warnings\n",
        "warnings.filterwarnings('ignore')\n",
        "\n",
        "# Import the numpy and pandas package\n",
        "import numpy as np\n",
        "import pandas as pd\n",
        "\n",
        "# Read the given CSV file, and view some sample records\n",
        "advertising = pd.read_csv(\"Company_data.csv\")\n",
        "advertising"
      ]
    },
    {
      "cell_type": "markdown",
      "source": [
        "here, we are importing libraries pandas and numpy for read  the file and for performing mathematics operation on the data.\n",
        "pandas is used for read the file use alias as pd. read_csv() function is used for read the file. numpy is used for performing mathematics operation on the data.\n",
        "Focusing on the data, there is 4 different columns Tv, Radio, News papers and sales.  we are going to use this data for performing linear regression.  "
      ],
      "metadata": {
        "id": "FL1Fi79Qygxb"
      }
    },
    {
      "cell_type": "markdown",
      "source": [
        "###2. Understanding the data"
      ],
      "metadata": {
        "id": "dEGubJE8YaP5"
      }
    },
    {
      "cell_type": "code",
      "source": [
        "# Shape of our dataset\n",
        "advertising.shape\n",
        "\n",
        "# Info our dataset\n",
        "advertising.info()\n",
        "\n",
        "# Describe our dataset\n",
        "advertising.describe()"
      ],
      "metadata": {
        "colab": {
          "base_uri": "https://localhost:8080/",
          "height": 491
        },
        "id": "A1Qm7l1wn1g7",
        "outputId": "68b84919-6cdc-46f0-ed8f-6287db16c174"
      },
      "execution_count": null,
      "outputs": [
        {
          "output_type": "stream",
          "name": "stdout",
          "text": [
            "<class 'pandas.core.frame.DataFrame'>\n",
            "RangeIndex: 200 entries, 0 to 199\n",
            "Data columns (total 4 columns):\n",
            " #   Column     Non-Null Count  Dtype  \n",
            "---  ------     --------------  -----  \n",
            " 0   TV         200 non-null    float64\n",
            " 1   Radio      200 non-null    float64\n",
            " 2   Newspaper  200 non-null    float64\n",
            " 3   Sales      200 non-null    float64\n",
            "dtypes: float64(4)\n",
            "memory usage: 6.4 KB\n"
          ]
        },
        {
          "output_type": "execute_result",
          "data": {
            "text/plain": [
              "               TV       Radio   Newspaper       Sales\n",
              "count  200.000000  200.000000  200.000000  200.000000\n",
              "mean   147.042500   23.264000   30.554000   15.130500\n",
              "std     85.854236   14.846809   21.778621    5.283892\n",
              "min      0.700000    0.000000    0.300000    1.600000\n",
              "25%     74.375000    9.975000   12.750000   11.000000\n",
              "50%    149.750000   22.900000   25.750000   16.000000\n",
              "75%    218.825000   36.525000   45.100000   19.050000\n",
              "max    296.400000   49.600000  114.000000   27.000000"
            ],
            "text/html": [
              "\n",
              "  <div id=\"df-71aebfc3-db93-4b0c-9883-41e69935e9a5\" class=\"colab-df-container\">\n",
              "    <div>\n",
              "<style scoped>\n",
              "    .dataframe tbody tr th:only-of-type {\n",
              "        vertical-align: middle;\n",
              "    }\n",
              "\n",
              "    .dataframe tbody tr th {\n",
              "        vertical-align: top;\n",
              "    }\n",
              "\n",
              "    .dataframe thead th {\n",
              "        text-align: right;\n",
              "    }\n",
              "</style>\n",
              "<table border=\"1\" class=\"dataframe\">\n",
              "  <thead>\n",
              "    <tr style=\"text-align: right;\">\n",
              "      <th></th>\n",
              "      <th>TV</th>\n",
              "      <th>Radio</th>\n",
              "      <th>Newspaper</th>\n",
              "      <th>Sales</th>\n",
              "    </tr>\n",
              "  </thead>\n",
              "  <tbody>\n",
              "    <tr>\n",
              "      <th>count</th>\n",
              "      <td>200.000000</td>\n",
              "      <td>200.000000</td>\n",
              "      <td>200.000000</td>\n",
              "      <td>200.000000</td>\n",
              "    </tr>\n",
              "    <tr>\n",
              "      <th>mean</th>\n",
              "      <td>147.042500</td>\n",
              "      <td>23.264000</td>\n",
              "      <td>30.554000</td>\n",
              "      <td>15.130500</td>\n",
              "    </tr>\n",
              "    <tr>\n",
              "      <th>std</th>\n",
              "      <td>85.854236</td>\n",
              "      <td>14.846809</td>\n",
              "      <td>21.778621</td>\n",
              "      <td>5.283892</td>\n",
              "    </tr>\n",
              "    <tr>\n",
              "      <th>min</th>\n",
              "      <td>0.700000</td>\n",
              "      <td>0.000000</td>\n",
              "      <td>0.300000</td>\n",
              "      <td>1.600000</td>\n",
              "    </tr>\n",
              "    <tr>\n",
              "      <th>25%</th>\n",
              "      <td>74.375000</td>\n",
              "      <td>9.975000</td>\n",
              "      <td>12.750000</td>\n",
              "      <td>11.000000</td>\n",
              "    </tr>\n",
              "    <tr>\n",
              "      <th>50%</th>\n",
              "      <td>149.750000</td>\n",
              "      <td>22.900000</td>\n",
              "      <td>25.750000</td>\n",
              "      <td>16.000000</td>\n",
              "    </tr>\n",
              "    <tr>\n",
              "      <th>75%</th>\n",
              "      <td>218.825000</td>\n",
              "      <td>36.525000</td>\n",
              "      <td>45.100000</td>\n",
              "      <td>19.050000</td>\n",
              "    </tr>\n",
              "    <tr>\n",
              "      <th>max</th>\n",
              "      <td>296.400000</td>\n",
              "      <td>49.600000</td>\n",
              "      <td>114.000000</td>\n",
              "      <td>27.000000</td>\n",
              "    </tr>\n",
              "  </tbody>\n",
              "</table>\n",
              "</div>\n",
              "    <div class=\"colab-df-buttons\">\n",
              "\n",
              "  <div class=\"colab-df-container\">\n",
              "    <button class=\"colab-df-convert\" onclick=\"convertToInteractive('df-71aebfc3-db93-4b0c-9883-41e69935e9a5')\"\n",
              "            title=\"Convert this dataframe to an interactive table.\"\n",
              "            style=\"display:none;\">\n",
              "\n",
              "  <svg xmlns=\"http://www.w3.org/2000/svg\" height=\"24px\" viewBox=\"0 -960 960 960\">\n",
              "    <path d=\"M120-120v-720h720v720H120Zm60-500h600v-160H180v160Zm220 220h160v-160H400v160Zm0 220h160v-160H400v160ZM180-400h160v-160H180v160Zm440 0h160v-160H620v160ZM180-180h160v-160H180v160Zm440 0h160v-160H620v160Z\"/>\n",
              "  </svg>\n",
              "    </button>\n",
              "\n",
              "  <style>\n",
              "    .colab-df-container {\n",
              "      display:flex;\n",
              "      gap: 12px;\n",
              "    }\n",
              "\n",
              "    .colab-df-convert {\n",
              "      background-color: #E8F0FE;\n",
              "      border: none;\n",
              "      border-radius: 50%;\n",
              "      cursor: pointer;\n",
              "      display: none;\n",
              "      fill: #1967D2;\n",
              "      height: 32px;\n",
              "      padding: 0 0 0 0;\n",
              "      width: 32px;\n",
              "    }\n",
              "\n",
              "    .colab-df-convert:hover {\n",
              "      background-color: #E2EBFA;\n",
              "      box-shadow: 0px 1px 2px rgba(60, 64, 67, 0.3), 0px 1px 3px 1px rgba(60, 64, 67, 0.15);\n",
              "      fill: #174EA6;\n",
              "    }\n",
              "\n",
              "    .colab-df-buttons div {\n",
              "      margin-bottom: 4px;\n",
              "    }\n",
              "\n",
              "    [theme=dark] .colab-df-convert {\n",
              "      background-color: #3B4455;\n",
              "      fill: #D2E3FC;\n",
              "    }\n",
              "\n",
              "    [theme=dark] .colab-df-convert:hover {\n",
              "      background-color: #434B5C;\n",
              "      box-shadow: 0px 1px 3px 1px rgba(0, 0, 0, 0.15);\n",
              "      filter: drop-shadow(0px 1px 2px rgba(0, 0, 0, 0.3));\n",
              "      fill: #FFFFFF;\n",
              "    }\n",
              "  </style>\n",
              "\n",
              "    <script>\n",
              "      const buttonEl =\n",
              "        document.querySelector('#df-71aebfc3-db93-4b0c-9883-41e69935e9a5 button.colab-df-convert');\n",
              "      buttonEl.style.display =\n",
              "        google.colab.kernel.accessAllowed ? 'block' : 'none';\n",
              "\n",
              "      async function convertToInteractive(key) {\n",
              "        const element = document.querySelector('#df-71aebfc3-db93-4b0c-9883-41e69935e9a5');\n",
              "        const dataTable =\n",
              "          await google.colab.kernel.invokeFunction('convertToInteractive',\n",
              "                                                    [key], {});\n",
              "        if (!dataTable) return;\n",
              "\n",
              "        const docLinkHtml = 'Like what you see? Visit the ' +\n",
              "          '<a target=\"_blank\" href=https://colab.research.google.com/notebooks/data_table.ipynb>data table notebook</a>'\n",
              "          + ' to learn more about interactive tables.';\n",
              "        element.innerHTML = '';\n",
              "        dataTable['output_type'] = 'display_data';\n",
              "        await google.colab.output.renderOutput(dataTable, element);\n",
              "        const docLink = document.createElement('div');\n",
              "        docLink.innerHTML = docLinkHtml;\n",
              "        element.appendChild(docLink);\n",
              "      }\n",
              "    </script>\n",
              "  </div>\n",
              "\n",
              "\n",
              "<div id=\"df-16fa3b04-c178-439f-8bf9-799c833c76fb\">\n",
              "  <button class=\"colab-df-quickchart\" onclick=\"quickchart('df-16fa3b04-c178-439f-8bf9-799c833c76fb')\"\n",
              "            title=\"Suggest charts.\"\n",
              "            style=\"display:none;\">\n",
              "\n",
              "<svg xmlns=\"http://www.w3.org/2000/svg\" height=\"24px\"viewBox=\"0 0 24 24\"\n",
              "     width=\"24px\">\n",
              "    <g>\n",
              "        <path d=\"M19 3H5c-1.1 0-2 .9-2 2v14c0 1.1.9 2 2 2h14c1.1 0 2-.9 2-2V5c0-1.1-.9-2-2-2zM9 17H7v-7h2v7zm4 0h-2V7h2v10zm4 0h-2v-4h2v4z\"/>\n",
              "    </g>\n",
              "</svg>\n",
              "  </button>\n",
              "\n",
              "<style>\n",
              "  .colab-df-quickchart {\n",
              "      --bg-color: #E8F0FE;\n",
              "      --fill-color: #1967D2;\n",
              "      --hover-bg-color: #E2EBFA;\n",
              "      --hover-fill-color: #174EA6;\n",
              "      --disabled-fill-color: #AAA;\n",
              "      --disabled-bg-color: #DDD;\n",
              "  }\n",
              "\n",
              "  [theme=dark] .colab-df-quickchart {\n",
              "      --bg-color: #3B4455;\n",
              "      --fill-color: #D2E3FC;\n",
              "      --hover-bg-color: #434B5C;\n",
              "      --hover-fill-color: #FFFFFF;\n",
              "      --disabled-bg-color: #3B4455;\n",
              "      --disabled-fill-color: #666;\n",
              "  }\n",
              "\n",
              "  .colab-df-quickchart {\n",
              "    background-color: var(--bg-color);\n",
              "    border: none;\n",
              "    border-radius: 50%;\n",
              "    cursor: pointer;\n",
              "    display: none;\n",
              "    fill: var(--fill-color);\n",
              "    height: 32px;\n",
              "    padding: 0;\n",
              "    width: 32px;\n",
              "  }\n",
              "\n",
              "  .colab-df-quickchart:hover {\n",
              "    background-color: var(--hover-bg-color);\n",
              "    box-shadow: 0 1px 2px rgba(60, 64, 67, 0.3), 0 1px 3px 1px rgba(60, 64, 67, 0.15);\n",
              "    fill: var(--button-hover-fill-color);\n",
              "  }\n",
              "\n",
              "  .colab-df-quickchart-complete:disabled,\n",
              "  .colab-df-quickchart-complete:disabled:hover {\n",
              "    background-color: var(--disabled-bg-color);\n",
              "    fill: var(--disabled-fill-color);\n",
              "    box-shadow: none;\n",
              "  }\n",
              "\n",
              "  .colab-df-spinner {\n",
              "    border: 2px solid var(--fill-color);\n",
              "    border-color: transparent;\n",
              "    border-bottom-color: var(--fill-color);\n",
              "    animation:\n",
              "      spin 1s steps(1) infinite;\n",
              "  }\n",
              "\n",
              "  @keyframes spin {\n",
              "    0% {\n",
              "      border-color: transparent;\n",
              "      border-bottom-color: var(--fill-color);\n",
              "      border-left-color: var(--fill-color);\n",
              "    }\n",
              "    20% {\n",
              "      border-color: transparent;\n",
              "      border-left-color: var(--fill-color);\n",
              "      border-top-color: var(--fill-color);\n",
              "    }\n",
              "    30% {\n",
              "      border-color: transparent;\n",
              "      border-left-color: var(--fill-color);\n",
              "      border-top-color: var(--fill-color);\n",
              "      border-right-color: var(--fill-color);\n",
              "    }\n",
              "    40% {\n",
              "      border-color: transparent;\n",
              "      border-right-color: var(--fill-color);\n",
              "      border-top-color: var(--fill-color);\n",
              "    }\n",
              "    60% {\n",
              "      border-color: transparent;\n",
              "      border-right-color: var(--fill-color);\n",
              "    }\n",
              "    80% {\n",
              "      border-color: transparent;\n",
              "      border-right-color: var(--fill-color);\n",
              "      border-bottom-color: var(--fill-color);\n",
              "    }\n",
              "    90% {\n",
              "      border-color: transparent;\n",
              "      border-bottom-color: var(--fill-color);\n",
              "    }\n",
              "  }\n",
              "</style>\n",
              "\n",
              "  <script>\n",
              "    async function quickchart(key) {\n",
              "      const quickchartButtonEl =\n",
              "        document.querySelector('#' + key + ' button');\n",
              "      quickchartButtonEl.disabled = true;  // To prevent multiple clicks.\n",
              "      quickchartButtonEl.classList.add('colab-df-spinner');\n",
              "      try {\n",
              "        const charts = await google.colab.kernel.invokeFunction(\n",
              "            'suggestCharts', [key], {});\n",
              "      } catch (error) {\n",
              "        console.error('Error during call to suggestCharts:', error);\n",
              "      }\n",
              "      quickchartButtonEl.classList.remove('colab-df-spinner');\n",
              "      quickchartButtonEl.classList.add('colab-df-quickchart-complete');\n",
              "    }\n",
              "    (() => {\n",
              "      let quickchartButtonEl =\n",
              "        document.querySelector('#df-16fa3b04-c178-439f-8bf9-799c833c76fb button');\n",
              "      quickchartButtonEl.style.display =\n",
              "        google.colab.kernel.accessAllowed ? 'block' : 'none';\n",
              "    })();\n",
              "  </script>\n",
              "</div>\n",
              "    </div>\n",
              "  </div>\n"
            ]
          },
          "metadata": {},
          "execution_count": 2
        }
      ]
    },
    {
      "cell_type": "markdown",
      "source": [
        "First, we are checking the shape of the data for further calculation for that we are using shape method along with dataframe variable advertising.\n",
        "\n",
        "after that we are using the info() fucntion for getting the schema of the dataset where its return the id , column name, non-null, count and data types. focusing on the info data this dataset use only float 64 as datatypes for all the variables and count as 200 for each of the variables.\n",
        "\n",
        "At the last, we are using the describe() function for getting the calculation of the statistics operations such as count, mean, standard deviation, quartiles and minimum, maximum of all the variables. focusing on the table, its depicts that smallest mean is for radio which is 23.264000 and the highest mean is 147.042500 for TV. now, focusing on the standard deviation the highest values is 85.854236 for Tv and lowest is for radio which is 14.846809. focusing on this whole describe table out of all others radio have the lowest outcomes and less popularity.\n",
        "\n",
        "\n",
        "In conclude, we are getting the information about the mean and standard deviation for all the variables.\n"
      ],
      "metadata": {
        "id": "tXrQVe6lzPwf"
      }
    },
    {
      "cell_type": "markdown",
      "source": [
        "###3. Visualizing the data\n",
        "####Scatter Plot"
      ],
      "metadata": {
        "id": "7KZX6tM9Yeel"
      }
    },
    {
      "cell_type": "code",
      "source": [
        "# Import matplotlib and seaborn libraries to visualize the data\n",
        "import matplotlib.pyplot as plt\n",
        "import seaborn as sns\n",
        "\n",
        "# Using pairplot we'll visualize the data for correlation\n",
        "sns.pairplot(advertising, x_vars=['TV', 'Radio','Newspaper'],\n",
        "             y_vars='Sales', size=4, aspect=1, kind='scatter')\n",
        "plt.show()"
      ],
      "metadata": {
        "colab": {
          "base_uri": "https://localhost:8080/",
          "height": 415
        },
        "id": "vrp9PapkoMBN",
        "outputId": "320692cd-01eb-47a4-ae77-3ff4eda11a96"
      },
      "execution_count": null,
      "outputs": [
        {
          "output_type": "display_data",
          "data": {
            "text/plain": [
              "<Figure size 1200x400 with 3 Axes>"
            ],
            "image/png": "[encoded data removed]"
          },
          "metadata": {}
        }
      ]
    },
    {
      "cell_type": "markdown",
      "source": [
        "here, we are creating scatter plot for visualizing the data. for visualizing the data we are using some libraires such as matpolotlib and seaborn.\n",
        "matplotlib is helps to create the graph of the visualization while seaborn is use for giving more clear vision and output of the commands in the graph. seaborn is used for clear readable labels of the graphs.\n",
        "\n",
        "here, we are creating three different graphs for, TV, Radio and Newspaper with sales. for the scatter plot of TV with the sales data its in incresing manner and all the data points are near by the liner regression line. Now, focusing on the Radio scatter plot all the data points are in the increasing order with the sprading data points.  while, focusing on the last figure, Newspapers its represent the non-linearity of the data points because all the data point of newspapers are not near by with each other."
      ],
      "metadata": {
        "id": "UPPUal3r1VGp"
      }
    },
    {
      "cell_type": "markdown",
      "source": [
        "####HeatMap"
      ],
      "metadata": {
        "id": "PO6FSXbAYsck"
      }
    },
    {
      "cell_type": "code",
      "source": [
        "# Visualizing the data using heatmap\n",
        "sns.heatmap(advertising.corr(), cmap=\"YlGnBu\", annot = True)\n",
        "plt.show()"
      ],
      "metadata": {
        "colab": {
          "base_uri": "https://localhost:8080/",
          "height": 435
        },
        "id": "fNd45k7moQx3",
        "outputId": "2883b79d-19e6-4968-fd7b-54ae28d19573"
      },
      "execution_count": null,
      "outputs": [
        {
          "output_type": "display_data",
          "data": {
            "text/plain": [
              "<Figure size 640x480 with 2 Axes>"
            ],
            "image/png": "[encoded data removed]"
          },
          "metadata": {}
        }
      ]
    },
    {
      "cell_type": "markdown",
      "source": [
        "we are using the heatmap for creating visualization of the data points. for heatmeap we are using sns alias of the seaborn focuing on the figure, its represent the data of sales, newspaper, radio and tv on the scale of 0.2 to 1.0. focusing on the each of the rows tv is on the scale range od 0.8 to 1.0 where the sales for tv is high as 0.9. while, for newspaper and radio is 0.35 and 0.16  respectively.\n",
        "\n",
        "all in all, focusing on the graph its clearly visible that sales of the TV is higher than the Radio and newspapers. that means the sales of the product is depend on the TV sales."
      ],
      "metadata": {
        "id": "zijm8abb8Asl"
      }
    },
    {
      "cell_type": "markdown",
      "source": [
        "####4.Performing Simple Linear Regression"
      ],
      "metadata": {
        "id": "ThohT16zYzT5"
      }
    },
    {
      "cell_type": "code",
      "source": [
        "# Creating X and y\n",
        "X = advertising['TV']\n",
        "y = advertising['Sales']"
      ],
      "metadata": {
        "id": "X6Z2UIiuoUfh"
      },
      "execution_count": null,
      "outputs": []
    },
    {
      "cell_type": "markdown",
      "source": [
        "here, we are creating two variables x and y, where x as tv and y as sales. this is the first step for performing simple linear regression."
      ],
      "metadata": {
        "id": "kDKBgi3q9TGv"
      }
    },
    {
      "cell_type": "markdown",
      "source": [
        "####5. Create Train and Test sets"
      ],
      "metadata": {
        "id": "MhhJ0Of0ZAFa"
      }
    },
    {
      "cell_type": "code",
      "source": [
        "# Splitting the varaibles as training and testing\n",
        "from sklearn.model_selection import train_test_split\n",
        "X_train, X_test, y_train, y_test = train_test_split(X, y, train_size = 0.7,\n",
        "                                                    test_size = 0.3, random_state = 100)"
      ],
      "metadata": {
        "id": "q1sY8DT8oYUO"
      },
      "execution_count": null,
      "outputs": []
    },
    {
      "cell_type": "markdown",
      "source": [
        "now, here we are splitting the variables as trainiing and testing dataset. for splitting the data we are using the sklearn library with model selection. in the model selection we are using the train_test_split function to split the dataset.\n",
        "after that we are creating the variables X_train, X_test,y_train and y_test for spliting the data where the train data set size is 0.7 which is 70% of the data and 0.3  , 30% of the data as the test dataset which is we are going to use for linear regression model training and testing and random state is set as 100.\n",
        "\n",
        "all in all, here we are just splitting the dataset into two different parts training and testing and storing them into 4 different variabels. we are going to use this train and test dataset for train and test our model."
      ],
      "metadata": {
        "id": "Fy_sUzkf9e9i"
      }
    },
    {
      "cell_type": "markdown",
      "source": [
        "####Training dataset"
      ],
      "metadata": {
        "id": "1yl-In15ZR7X"
      }
    },
    {
      "cell_type": "code",
      "source": [
        "# Take a look at the train dataset\n",
        "X_train\n",
        "y_train"
      ],
      "metadata": {
        "colab": {
          "base_uri": "https://localhost:8080/"
        },
        "id": "CkGtp3WVob93",
        "outputId": "132805ea-9e42-453f-edb0-6765c37866c1"
      },
      "execution_count": null,
      "outputs": [
        {
          "output_type": "execute_result",
          "data": {
            "text/plain": [
              "74     17.0\n",
              "3      16.5\n",
              "185    22.6\n",
              "26     15.0\n",
              "90     14.0\n",
              "       ... \n",
              "87     16.0\n",
              "103    19.7\n",
              "67     13.4\n",
              "24      9.7\n",
              "8       4.8\n",
              "Name: Sales, Length: 140, dtype: float64"
            ]
          },
          "metadata": {},
          "execution_count": 7
        }
      ]
    },
    {
      "cell_type": "markdown",
      "source": [
        "here, we are just printing the split data of X_train and y_train. we are just reading the train dataset."
      ],
      "metadata": {
        "id": "pmq2pzdB-f14"
      }
    },
    {
      "cell_type": "markdown",
      "source": [
        "####6. Building and training the model"
      ],
      "metadata": {
        "id": "g_5iXXRdZNl6"
      }
    },
    {
      "cell_type": "code",
      "source": [
        "# Importing Statsmodels.api library from Stamodel package\n",
        "import statsmodels.api as sm\n",
        "\n",
        "# Adding a constant to get an intercept\n",
        "X_train_sm = sm.add_constant(X_train)"
      ],
      "metadata": {
        "id": "0acMqt65oenK"
      },
      "execution_count": null,
      "outputs": []
    },
    {
      "cell_type": "markdown",
      "source": [
        "here, we are importing the stats model api for stamodel which is we are going to use fot getting the values of the intercept. we are adding constant intercept using alias of statmodel sm with add_constant() function. we are creating varibale and adding constant in the x_train_sm variable.\n",
        "all in all, we are going to use this intercept in the linear regression. we are creating statmodel using alias sm."
      ],
      "metadata": {
        "id": "jSIQLjIa-rOD"
      }
    },
    {
      "cell_type": "code",
      "source": [
        "# Fitting the resgression line using 'OLS'\n",
        "lr = sm.OLS(y_train, X_train_sm).fit()\n",
        "\n",
        "# Printing the parameters\n",
        "lr.params"
      ],
      "metadata": {
        "colab": {
          "base_uri": "https://localhost:8080/"
        },
        "id": "JqKtyh4toiiK",
        "outputId": "9ca8d41d-2efc-43b8-b570-b5cb63a2373c"
      },
      "execution_count": null,
      "outputs": [
        {
          "output_type": "execute_result",
          "data": {
            "text/plain": [
              "const    6.948683\n",
              "TV       0.054546\n",
              "dtype: float64"
            ]
          },
          "metadata": {},
          "execution_count": 9
        }
      ]
    },
    {
      "cell_type": "markdown",
      "source": [
        "here, we are using OLS regression model and try to fit the model.  this model is estimate the intercept which is arround 6.949 and for each time per unit tv predictor is increased, while, thr dependent variable is increase by arrount 0.55 per units.\n"
      ],
      "metadata": {
        "id": "hQDHNdjJbF9J"
      }
    },
    {
      "cell_type": "code",
      "source": [
        "# Performing a summary to list out all the different parameters of the regression line fitted\n",
        "lr.summary()"
      ],
      "metadata": {
        "colab": {
          "base_uri": "https://localhost:8080/",
          "height": 441
        },
        "id": "GUm00tBJoldz",
        "outputId": "af55742d-a3d5-41b5-fc50-36877879db68"
      },
      "execution_count": null,
      "outputs": [
        {
          "output_type": "execute_result",
          "data": {
            "text/plain": [
              "<class 'statsmodels.iolib.summary.Summary'>\n",
              "\"\"\"\n",
              "                            OLS Regression Results                            \n",
              "==============================================================================\n",
              "Dep. Variable:                  Sales   R-squared:                       0.816\n",
              "Model:                            OLS   Adj. R-squared:                  0.814\n",
              "Method:                 Least Squares   F-statistic:                     611.2\n",
              "Date:                Sat, 14 Oct 2023   Prob (F-statistic):           1.52e-52\n",
              "Time:                        09:04:21   Log-Likelihood:                -321.12\n",
              "No. Observations:                 140   AIC:                             646.2\n",
              "Df Residuals:                     138   BIC:                             652.1\n",
              "Df Model:                           1                                         \n",
              "Covariance Type:            nonrobust                                         \n",
              "==============================================================================\n",
              "                 coef    std err          t      P>|t|      [0.025      0.975]\n",
              "------------------------------------------------------------------------------\n",
              "const          6.9487      0.385     18.068      0.000       6.188       7.709\n",
              "TV             0.0545      0.002     24.722      0.000       0.050       0.059\n",
              "==============================================================================\n",
              "Omnibus:                        0.027   Durbin-Watson:                   2.196\n",
              "Prob(Omnibus):                  0.987   Jarque-Bera (JB):                0.150\n",
              "Skew:                          -0.006   Prob(JB):                        0.928\n",
              "Kurtosis:                       2.840   Cond. No.                         328.\n",
              "==============================================================================\n",
              "\n",
              "Notes:\n",
              "[1] Standard Errors assume that the covariance matrix of the errors is correctly specified.\n",
              "\"\"\""
            ],
            "text/html": [
              "<table class=\"simpletable\">\n",
              "<caption>OLS Regression Results</caption>\n",
              "<tr>\n",
              "  <th>Dep. Variable:</th>          <td>Sales</td>      <th>  R-squared:         </th> <td>   0.816</td>\n",
              "</tr>\n",
              "<tr>\n",
              "  <th>Model:</th>                   <td>OLS</td>       <th>  Adj. R-squared:    </th> <td>   0.814</td>\n",
              "</tr>\n",
              "<tr>\n",
              "  <th>Method:</th>             <td>Least Squares</td>  <th>  F-statistic:       </th> <td>   611.2</td>\n",
              "</tr>\n",
              "<tr>\n",
              "  <th>Date:</th>             <td>Sat, 14 Oct 2023</td> <th>  Prob (F-statistic):</th> <td>1.52e-52</td>\n",
              "</tr>\n",
              "<tr>\n",
              "  <th>Time:</th>                 <td>09:04:21</td>     <th>  Log-Likelihood:    </th> <td> -321.12</td>\n",
              "</tr>\n",
              "<tr>\n",
              "  <th>No. Observations:</th>      <td>   140</td>      <th>  AIC:               </th> <td>   646.2</td>\n",
              "</tr>\n",
              "<tr>\n",
              "  <th>Df Residuals:</th>          <td>   138</td>      <th>  BIC:               </th> <td>   652.1</td>\n",
              "</tr>\n",
              "<tr>\n",
              "  <th>Df Model:</th>              <td>     1</td>      <th>                     </th>     <td> </td>   \n",
              "</tr>\n",
              "<tr>\n",
              "  <th>Covariance Type:</th>      <td>nonrobust</td>    <th>                     </th>     <td> </td>   \n",
              "</tr>\n",
              "</table>\n",
              "<table class=\"simpletable\">\n",
              "<tr>\n",
              "    <td></td>       <th>coef</th>     <th>std err</th>      <th>t</th>      <th>P>|t|</th>  <th>[0.025</th>    <th>0.975]</th>  \n",
              "</tr>\n",
              "<tr>\n",
              "  <th>const</th> <td>    6.9487</td> <td>    0.385</td> <td>   18.068</td> <td> 0.000</td> <td>    6.188</td> <td>    7.709</td>\n",
              "</tr>\n",
              "<tr>\n",
              "  <th>TV</th>    <td>    0.0545</td> <td>    0.002</td> <td>   24.722</td> <td> 0.000</td> <td>    0.050</td> <td>    0.059</td>\n",
              "</tr>\n",
              "</table>\n",
              "<table class=\"simpletable\">\n",
              "<tr>\n",
              "  <th>Omnibus:</th>       <td> 0.027</td> <th>  Durbin-Watson:     </th> <td>   2.196</td>\n",
              "</tr>\n",
              "<tr>\n",
              "  <th>Prob(Omnibus):</th> <td> 0.987</td> <th>  Jarque-Bera (JB):  </th> <td>   0.150</td>\n",
              "</tr>\n",
              "<tr>\n",
              "  <th>Skew:</th>          <td>-0.006</td> <th>  Prob(JB):          </th> <td>   0.928</td>\n",
              "</tr>\n",
              "<tr>\n",
              "  <th>Kurtosis:</th>      <td> 2.840</td> <th>  Cond. No.          </th> <td>    328.</td>\n",
              "</tr>\n",
              "</table><br/><br/>Notes:<br/>[1] Standard Errors assume that the covariance matrix of the errors is correctly specified."
            ],
            "text/latex": "\\begin{center}\n\\begin{tabular}{lclc}\n\\toprule\n\\textbf{Dep. Variable:}    &      Sales       & \\textbf{  R-squared:         } &     0.816   \\\\\n\\textbf{Model:}            &       OLS        & \\textbf{  Adj. R-squared:    } &     0.814   \\\\\n\\textbf{Method:}           &  Least Squares   & \\textbf{  F-statistic:       } &     611.2   \\\\\n\\textbf{Date:}             & Sat, 14 Oct 2023 & \\textbf{  Prob (F-statistic):} &  1.52e-52   \\\\\n\\textbf{Time:}             &     09:04:21     & \\textbf{  Log-Likelihood:    } &   -321.12   \\\\\n\\textbf{No. Observations:} &         140      & \\textbf{  AIC:               } &     646.2   \\\\\n\\textbf{Df Residuals:}     &         138      & \\textbf{  BIC:               } &     652.1   \\\\\n\\textbf{Df Model:}         &           1      & \\textbf{                     } &             \\\\\n\\textbf{Covariance Type:}  &    nonrobust     & \\textbf{                     } &             \\\\\n\\bottomrule\n\\end{tabular}\n\\begin{tabular}{lcccccc}\n               & \\textbf{coef} & \\textbf{std err} & \\textbf{t} & \\textbf{P$> |$t$|$} & \\textbf{[0.025} & \\textbf{0.975]}  \\\\\n\\midrule\n\\textbf{const} &       6.9487  &        0.385     &    18.068  &         0.000        &        6.188    &        7.709     \\\\\n\\textbf{TV}    &       0.0545  &        0.002     &    24.722  &         0.000        &        0.050    &        0.059     \\\\\n\\bottomrule\n\\end{tabular}\n\\begin{tabular}{lclc}\n\\textbf{Omnibus:}       &  0.027 & \\textbf{  Durbin-Watson:     } &    2.196  \\\\\n\\textbf{Prob(Omnibus):} &  0.987 & \\textbf{  Jarque-Bera (JB):  } &    0.150  \\\\\n\\textbf{Skew:}          & -0.006 & \\textbf{  Prob(JB):          } &    0.928  \\\\\n\\textbf{Kurtosis:}      &  2.840 & \\textbf{  Cond. No.          } &     328.  \\\\\n\\bottomrule\n\\end{tabular}\n%\\caption{OLS Regression Results}\n\\end{center}\n\nNotes: \\newline\n [1] Standard Errors assume that the covariance matrix of the errors is correctly specified."
          },
          "metadata": {},
          "execution_count": 10
        }
      ]
    },
    {
      "cell_type": "markdown",
      "source": [
        "here, we are getting all the summary of the linear regression model using the lr.summary() where lr is linear regression alias along with summary() function.\n",
        "\n",
        "focusing on the OSL results, here we take sales as dependent variable R-squared is count as 0.816 and model we used as OSL. method we use as least square and f-statistics is 611.2. focusing on the further mode in details no of observation are 140. df model is 1 and df residuals is 138. here, p value and t test is 0.025 and 0.975 along with coefficient standard error. here the constant values is 6.9487, 0.385, 18.068, 0.000, 6.188 and 7.7709 while the tv values are 0.0545, 0.002 , 24.722 , 0.000 , 0.050 and 0.059.\n",
        "\n",
        "here, r-squared shows the variance in the dependent variable sales which is 81.6%. f-statistics is the overall significant of the model, which is low p-value which is shows the statistically significant value. coefficients is the contast intercept which is 6.949 and tv coefficient is 0.545, with the lowest p-value which is shows the giving the suggation of the statistically significant prediction.\n",
        "\n",
        "all in all, this model provide the statistically significant which is explain the substantial part of the differ in the sales with tv for the significant prediction.\n"
      ],
      "metadata": {
        "id": "Ch48JDW1deY7"
      }
    },
    {
      "cell_type": "markdown",
      "source": [
        "####7.Bestfit Regression Line"
      ],
      "metadata": {
        "id": "lPQd6Nn5Zn9y"
      }
    },
    {
      "cell_type": "code",
      "source": [
        "# Visualizing the regression line\n",
        "plt.scatter(X_train, y_train)\n",
        "plt.plot(X_train, 6.948 + 0.054*X_train, 'r')\n",
        "plt.show()"
      ],
      "metadata": {
        "colab": {
          "base_uri": "https://localhost:8080/",
          "height": 430
        },
        "id": "pn1jHJPuootp",
        "outputId": "900c359a-65c7-491d-c7a1-93a6500c9e4b"
      },
      "execution_count": null,
      "outputs": [
        {
          "output_type": "display_data",
          "data": {
            "text/plain": [
              "<Figure size 640x480 with 1 Axes>"
            ],
            "image/png": "[encoded data removed]"
          },
          "metadata": {}
        }
      ]
    },
    {
      "cell_type": "markdown",
      "source": [
        "we are creating the scatter ploot diagram for x_train and y_train for visualizing the regression line. we are drawing the scatter plot with data points of x_train and y_train along with red regression line overlayed on the data plots. where the intercept is 6.948 and the slope is 0.054. this is shows the relation between tv and sales which is estimates by regression model.\n",
        "focusing on the figure its shows all the data points are in the increasing order and near by the regression line which is indicate that this is linear regression.\n",
        "\n",
        "\n",
        "\n"
      ],
      "metadata": {
        "id": "peBjmLrY6B-p"
      }
    },
    {
      "cell_type": "markdown",
      "source": [
        "####8. Residual Analysis"
      ],
      "metadata": {
        "id": "UfJW5ncFZ47b"
      }
    },
    {
      "cell_type": "code",
      "source": [
        "# Predicting y_value using traingn data of X\n",
        "y_train_pred = lr.predict(X_train_sm)\n",
        "\n",
        "# Creating residuals from the y_train data and predicted y_data\n",
        "res = (y_train - y_train_pred)"
      ],
      "metadata": {
        "id": "S_uk6Cv7ouF8"
      },
      "execution_count": null,
      "outputs": []
    },
    {
      "cell_type": "markdown",
      "source": [
        "here, we are predicting the y_data. we are predicting the y value using the training data of x. we are using the lr alias as linear regression with the predict() function with the x_train_sm which is stored in the variable y_train_pred.\n",
        "\n",
        "now we are calculating the y_train_pred using the regression model , which is stored the predicted values of the dependent variable on the train data. here res is the variable for residuals which is the difference of the actual value y_train and predicted y_values. res is the measure of the difference between the actual and predicted value which is the prediction error of the each data points.\n",
        "\n"
      ],
      "metadata": {
        "id": "uavAggogFlSF"
      }
    },
    {
      "cell_type": "markdown",
      "source": [
        "####Histogram"
      ],
      "metadata": {
        "id": "8Ja5zI2baQ-t"
      }
    },
    {
      "cell_type": "code",
      "source": [
        "# Plotting the histogram using the residual values\n",
        "fig = plt.figure()\n",
        "sns.distplot(res, bins = 15)\n",
        "plt.title('Error Terms', fontsize = 15)\n",
        "plt.xlabel('y_train - y_train_pred', fontsize = 15)\n",
        "plt.show()"
      ],
      "metadata": {
        "colab": {
          "base_uri": "https://localhost:8080/",
          "height": 481
        },
        "id": "Fqyn8pPcoxwA",
        "outputId": "d6e4fd28-0d69-4775-ed5a-0c57708f4741"
      },
      "execution_count": null,
      "outputs": [
        {
          "output_type": "display_data",
          "data": {
            "text/plain": [
              "<Figure size 640x480 with 1 Axes>"
            ],
            "image/png": "[encoded data removed]"
          },
          "metadata": {}
        }
      ]
    },
    {
      "cell_type": "markdown",
      "source": [
        "here, we are creating the histogram for the residuals and visualizing the distribution of the errors of the model predicted values. this is predicting the dependent variable which is check if residuals are normally distributed or there is constant errors in the model.\n",
        "focusing on the histogram its shows that error curve  range is between -7.5 to 7.5. talking about the error its reach high at 0.0 error and density is between 0.14 to 0.16. this shows that this model is prediction are accurate with the high concentration of the data points which is centered perfectly with the prediction marks.\n",
        "\n",
        "\n"
      ],
      "metadata": {
        "id": "r3SRd3wvHQaD"
      }
    },
    {
      "cell_type": "markdown",
      "source": [
        "####Scatter Plot"
      ],
      "metadata": {
        "id": "X6KHstdgaUAM"
      }
    },
    {
      "cell_type": "code",
      "source": [
        "# Looking for any patterns in the residuals\n",
        "plt.scatter(X_train,res)\n",
        "plt.show()"
      ],
      "metadata": {
        "colab": {
          "base_uri": "https://localhost:8080/",
          "height": 430
        },
        "id": "FDBTUtRXo2VG",
        "outputId": "f3bfbe94-7eee-4837-d857-b2448ffbf91d"
      },
      "execution_count": null,
      "outputs": [
        {
          "output_type": "display_data",
          "data": {
            "text/plain": [
              "<Figure size 640x480 with 1 Axes>"
            ],
            "image/png": "[encoded data removed]"
          },
          "metadata": {}
        }
      ]
    },
    {
      "cell_type": "markdown",
      "source": [
        "here, we are creating the scatter plot with the x_train and res using the scatter plot function. this is use for checking if there is some pattern or trends of the prediction errors, and its shows if there is going to be issue to fit the model.\n",
        "focusing on the data points of scatter plot. its distributed all over the region and there is no linearity of the data points.\n",
        "\n"
      ],
      "metadata": {
        "id": "CKWdT4zzI8yt"
      }
    },
    {
      "cell_type": "markdown",
      "source": [
        "####9. Predictions on the Test data or Evaluating the model"
      ],
      "metadata": {
        "id": "7x0N3Lh1adOa"
      }
    },
    {
      "cell_type": "code",
      "source": [
        "# Adding a constant to X_test\n",
        "X_test_sm = sm.add_constant(X_test)\n",
        "\n",
        "# Predicting the y values corresponding to X_test_sm\n",
        "y_test_pred = lr.predict(X_test_sm)\n",
        "\n",
        "# Printing the first 15 predicted values\n",
        "y_test_pred"
      ],
      "metadata": {
        "colab": {
          "base_uri": "https://localhost:8080/"
        },
        "id": "SsKwqBRxo5s1",
        "outputId": "5686e227-58b5-4653-9a30-934839e302a6"
      },
      "execution_count": null,
      "outputs": [
        {
          "output_type": "execute_result",
          "data": {
            "text/plain": [
              "126     7.374140\n",
              "104    19.941482\n",
              "99     14.323269\n",
              "92     18.823294\n",
              "111    20.132392\n",
              "167    18.228745\n",
              "116    14.541452\n",
              "96     17.726924\n",
              "52     18.752384\n",
              "69     18.774202\n",
              "164    13.341445\n",
              "124    19.466933\n",
              "182    10.014155\n",
              "154    17.192376\n",
              "125    11.705073\n",
              "196    12.086893\n",
              "194    15.114182\n",
              "177    16.232370\n",
              "163    15.866914\n",
              "31     13.106899\n",
              "11     18.659656\n",
              "73     14.006904\n",
              "15     17.606923\n",
              "41     16.603281\n",
              "97     17.034193\n",
              "128    18.965113\n",
              "133    18.937840\n",
              "82     11.055978\n",
              "139    17.034193\n",
              "123    13.663265\n",
              "83     10.679613\n",
              "65     10.712340\n",
              "151    13.548719\n",
              "162    17.225103\n",
              "170     9.675971\n",
              "77     13.521446\n",
              "32     12.250530\n",
              "173    16.134188\n",
              "174    19.079659\n",
              "85     17.486923\n",
              "168    18.697838\n",
              "112    16.532372\n",
              "171    15.921460\n",
              "181    18.866930\n",
              "7      13.505083\n",
              "46     11.841437\n",
              "75      7.870506\n",
              "28     20.519667\n",
              "29     10.799613\n",
              "195     9.032331\n",
              "40     17.994198\n",
              "153    16.292371\n",
              "115    11.045069\n",
              "64     14.099631\n",
              "59     18.441473\n",
              "1       9.375969\n",
              "192     7.886870\n",
              "136     8.345054\n",
              "152    17.726924\n",
              "161    11.623254\n",
              "dtype: float64"
            ]
          },
          "metadata": {},
          "execution_count": 15
        }
      ]
    },
    {
      "cell_type": "markdown",
      "source": [
        "here, we are printing the y_predicted value. here we are using the regression model for test data x_test adding the constant term in this. here we are predicting the y value with the y_test_pred on the model. here we are printing first 15 predicted values if the sales in the test dataset. we are predicting the model estimate sales values along with the x_test values, which is allowed the evaluation of the model performance on untrained data.\n",
        "\n",
        "\n",
        "\n"
      ],
      "metadata": {
        "id": "piELe7YrKOZP"
      }
    },
    {
      "cell_type": "code",
      "source": [
        "# Importing r2_square\n",
        "from sklearn.metrics import r2_score\n",
        "\n",
        "# Checking the R-squared value\n",
        "r_squared = r2_score(y_test, y_test_pred)\n",
        "r_squared"
      ],
      "metadata": {
        "colab": {
          "base_uri": "https://localhost:8080/"
        },
        "id": "1GjOHobDo9Pw",
        "outputId": "b64a7fd2-cacf-46eb-d868-edbd65a5bf3e"
      },
      "execution_count": null,
      "outputs": [
        {
          "output_type": "execute_result",
          "data": {
            "text/plain": [
              "0.792103160124566"
            ]
          },
          "metadata": {},
          "execution_count": 16
        }
      ]
    },
    {
      "cell_type": "markdown",
      "source": [
        "here, we are calculating the r-square value using the r2_score() function from sklearn matrics.\n",
        "first we are importing libraries sklearn metrics from this we are importing r2_score for calculating the r-squared value. after that we are checking the r-squared value for that we are creating variable name as r-squared and store r2_score function values which is we got from y_test and y_test_pred and at the last we print the values which is 0.7921 approx. here the regression model is explains 79.2% of the estimated difference in the dependent variable sales in the test data, which is good fit in the prediction of the sales depend on the features.\n",
        "\n"
      ],
      "metadata": {
        "id": "Eh2FJwacLeJ4"
      }
    },
    {
      "cell_type": "markdown",
      "source": [
        "####10. visualizing the line on test data"
      ],
      "metadata": {
        "id": "nlfiKLCUa510"
      }
    },
    {
      "cell_type": "code",
      "source": [
        "# Visualize the line on the test set\n",
        "plt.scatter(X_test, y_test)\n",
        "plt.plot(X_test, y_test_pred, 'r')\n",
        "plt.show()"
      ],
      "metadata": {
        "colab": {
          "base_uri": "https://localhost:8080/",
          "height": 430
        },
        "id": "0XSXG0gPpBFh",
        "outputId": "1a53acb5-6e28-4c08-b51f-7225132594c9"
      },
      "execution_count": null,
      "outputs": [
        {
          "output_type": "display_data",
          "data": {
            "text/plain": [
              "<Figure size 640x480 with 1 Axes>"
            ],
            "image/png": "[encoded data removed]"
          },
          "metadata": {}
        }
      ]
    },
    {
      "cell_type": "markdown",
      "source": [
        "here, we are creating the scatter plot with x_test and y_test data.talking about the data points plots we are taking x_test and y_test_pred values for ploting the diagram. here, the red line is overlays the data points which is the regression line for the model. this figure shows that our predicted values and actual values are nearly close to each other and its linearly seperable.\n",
        "\n",
        "focusing on the data points almost all the data points are near by each other only some of them are not close to the regression line which is markeed as outliers of the data."
      ],
      "metadata": {
        "id": "3yRywvXtgjiq"
      }
    },
    {
      "cell_type": "code",
      "source": [
        "# Splitting the data into train and test\n",
        "from sklearn.model_selection import train_test_split\n",
        "X_train_lm, X_test_lm, y_train_lm, y_test_lm = train_test_split(X, y, train_size = 0.7,\n",
        "                                                                test_size = 0.3, random_state = 100)"
      ],
      "metadata": {
        "id": "kPM36jC6pEwW"
      },
      "execution_count": null,
      "outputs": []
    },
    {
      "cell_type": "markdown",
      "source": [
        "here, we are splitting the dataset for that we are using sklearn model selection and from that we are importing train_test_split for splitting the data.\n",
        "after that we are creating variables names as X_train_lm, X_test_lm, y_train_lm, y_test_lm and we are going to store the split data here. now, we are using train_test_split() function passing the parameter as x , y and training dataset size as 0.7 which is 70% and test dataset size as 0.3 which is 30% of the data and set random state as 100 which is use for maintaining the constant values in the data."
      ],
      "metadata": {
        "id": "99v_-0Gnhh2_"
      }
    },
    {
      "cell_type": "code",
      "source": [
        "# Shape of the train set without adding column\n",
        "X_train_lm.shape\n",
        "\n",
        "# Adding additional column to the train and test data\n",
        "X_train_lm = X_train_lm.values.reshape(-1,1)\n",
        "X_test_lm = X_test_lm.values.reshape(-1,1)\n",
        "\n",
        "print(X_train_lm.shape)\n",
        "print(X_test_lm.shape)"
      ],
      "metadata": {
        "colab": {
          "base_uri": "https://localhost:8080/"
        },
        "id": "ZcTlyPSBpKaw",
        "outputId": "66e9d50c-e377-48d9-d73f-64a5970d3e88"
      },
      "execution_count": null,
      "outputs": [
        {
          "output_type": "stream",
          "name": "stdout",
          "text": [
            "(140, 1)\n",
            "(60, 1)\n"
          ]
        }
      ]
    },
    {
      "cell_type": "markdown",
      "source": [
        "here, we are getting the shape of the data for that we are using shape method for getting the shape of the data.\n",
        "first we are getting the shape of the x_train_lm shape which is (140,1) which shows that we have 140 data point with one single feature and now we have reshape with (-1,1) and second is x_test_lm which is (60,1)  which shos that we have 60 data points with one single feature for the test set.\n",
        "\n"
      ],
      "metadata": {
        "id": "lDVm74vzicuY"
      }
    },
    {
      "cell_type": "code",
      "source": [
        "from sklearn.linear_model import LinearRegression\n",
        "\n",
        "# Creating an object of Linear Regression\n",
        "lm = LinearRegression()\n",
        "\n",
        "# Fit the model using .fit() method\n",
        "lm.fit(X_train_lm, y_train_lm)"
      ],
      "metadata": {
        "colab": {
          "base_uri": "https://localhost:8080/",
          "height": 74
        },
        "id": "d4NZ8V0kpQT1",
        "outputId": "045224cb-0b2c-48d9-92c3-c91a4872204b"
      },
      "execution_count": null,
      "outputs": [
        {
          "output_type": "execute_result",
          "data": {
            "text/plain": [
              "LinearRegression()"
            ],
            "text/html": [
              "<style>#sk-container-id-1 {color: black;background-color: white;}#sk-container-id-1 pre{padding: 0;}#sk-container-id-1 div.sk-toggleable {background-color: white;}#sk-container-id-1 label.sk-toggleable__label {cursor: pointer;display: block;width: 100%;margin-bottom: 0;padding: 0.3em;box-sizing: border-box;text-align: center;}#sk-container-id-1 label.sk-toggleable__label-arrow:before {content: \"▸\";float: left;margin-right: 0.25em;color: #696969;}#sk-container-id-1 label.sk-toggleable__label-arrow:hover:before {color: black;}#sk-container-id-1 div.sk-estimator:hover label.sk-toggleable__label-arrow:before {color: black;}#sk-container-id-1 div.sk-toggleable__content {max-height: 0;max-width: 0;overflow: hidden;text-align: left;background-color: #f0f8ff;}#sk-container-id-1 div.sk-toggleable__content pre {margin: 0.2em;color: black;border-radius: 0.25em;background-color: #f0f8ff;}#sk-container-id-1 input.sk-toggleable__control:checked~div.sk-toggleable__content {max-height: 200px;max-width: 100%;overflow: auto;}#sk-container-id-1 input.sk-toggleable__control:checked~label.sk-toggleable__label-arrow:before {content: \"▾\";}#sk-container-id-1 div.sk-estimator input.sk-toggleable__control:checked~label.sk-toggleable__label {background-color: #d4ebff;}#sk-container-id-1 div.sk-label input.sk-toggleable__control:checked~label.sk-toggleable__label {background-color: #d4ebff;}#sk-container-id-1 input.sk-hidden--visually {border: 0;clip: rect(1px 1px 1px 1px);clip: rect(1px, 1px, 1px, 1px);height: 1px;margin: -1px;overflow: hidden;padding: 0;position: absolute;width: 1px;}#sk-container-id-1 div.sk-estimator {font-family: monospace;background-color: #f0f8ff;border: 1px dotted black;border-radius: 0.25em;box-sizing: border-box;margin-bottom: 0.5em;}#sk-container-id-1 div.sk-estimator:hover {background-color: #d4ebff;}#sk-container-id-1 div.sk-parallel-item::after {content: \"\";width: 100%;border-bottom: 1px solid gray;flex-grow: 1;}#sk-container-id-1 div.sk-label:hover label.sk-toggleable__label {background-color: #d4ebff;}#sk-container-id-1 div.sk-serial::before {content: \"\";position: absolute;border-left: 1px solid gray;box-sizing: border-box;top: 0;bottom: 0;left: 50%;z-index: 0;}#sk-container-id-1 div.sk-serial {display: flex;flex-direction: column;align-items: center;background-color: white;padding-right: 0.2em;padding-left: 0.2em;position: relative;}#sk-container-id-1 div.sk-item {position: relative;z-index: 1;}#sk-container-id-1 div.sk-parallel {display: flex;align-items: stretch;justify-content: center;background-color: white;position: relative;}#sk-container-id-1 div.sk-item::before, #sk-container-id-1 div.sk-parallel-item::before {content: \"\";position: absolute;border-left: 1px solid gray;box-sizing: border-box;top: 0;bottom: 0;left: 50%;z-index: -1;}#sk-container-id-1 div.sk-parallel-item {display: flex;flex-direction: column;z-index: 1;position: relative;background-color: white;}#sk-container-id-1 div.sk-parallel-item:first-child::after {align-self: flex-end;width: 50%;}#sk-container-id-1 div.sk-parallel-item:last-child::after {align-self: flex-start;width: 50%;}#sk-container-id-1 div.sk-parallel-item:only-child::after {width: 0;}#sk-container-id-1 div.sk-dashed-wrapped {border: 1px dashed gray;margin: 0 0.4em 0.5em 0.4em;box-sizing: border-box;padding-bottom: 0.4em;background-color: white;}#sk-container-id-1 div.sk-label label {font-family: monospace;font-weight: bold;display: inline-block;line-height: 1.2em;}#sk-container-id-1 div.sk-label-container {text-align: center;}#sk-container-id-1 div.sk-container {/* jupyter's `normalize.less` sets `[hidden] { display: none; }` but bootstrap.min.css set `[hidden] { display: none !important; }` so we also need the `!important` here to be able to override the default hidden behavior on the sphinx rendered scikit-learn.org. See: https://github.com/scikit-learn/scikit-learn/issues/21755 */display: inline-block !important;position: relative;}#sk-container-id-1 div.sk-text-repr-fallback {display: none;}</style><div id=\"sk-container-id-1\" class=\"sk-top-container\"><div class=\"sk-text-repr-fallback\"><pre>LinearRegression()</pre><b>In a Jupyter environment, please rerun this cell to show the HTML representation or trust the notebook. <br />On GitHub, the HTML representation is unable to render, please try loading this page with nbviewer.org.</b></div><div class=\"sk-container\" hidden><div class=\"sk-item\"><div class=\"sk-estimator sk-toggleable\"><input class=\"sk-toggleable__control sk-hidden--visually\" id=\"sk-estimator-id-1\" type=\"checkbox\" checked><label for=\"sk-estimator-id-1\" class=\"sk-toggleable__label sk-toggleable__label-arrow\">LinearRegression</label><div class=\"sk-toggleable__content\"><pre>LinearRegression()</pre></div></div></div></div></div>"
            ]
          },
          "metadata": {},
          "execution_count": 20
        }
      ]
    },
    {
      "cell_type": "markdown",
      "source": [
        "here, we are importing the linear regression  from sklearn linear model. now, we are creating the object of the linear regression named as lm.\n",
        "now we are fitting the model using fit() method passing parameter inside is x_train_lm and y_train_lm.\n",
        "\n",
        "here, we trying to fit our linear model in the our splitted train data for x and y for that we  are using fit() method. this is used for knowing the relation between the actual variable and target variables.\n",
        "\n"
      ],
      "metadata": {
        "id": "3AxebTidj10E"
      }
    },
    {
      "cell_type": "markdown",
      "source": [
        "####11. Calculating intercept and slope values"
      ],
      "metadata": {
        "id": "86CCT08ib5rJ"
      }
    },
    {
      "cell_type": "code",
      "source": [
        "# Intercept value\n",
        "print(\"Intercept :\",lm.intercept_)\n",
        "\n",
        "# Slope value\n",
        "print('Slope :',lm.coef_)"
      ],
      "metadata": {
        "colab": {
          "base_uri": "https://localhost:8080/"
        },
        "id": "OjaGfplEpUH7",
        "outputId": "6278e662-7c31-4d83-845c-b8ad59ead9e7"
      },
      "execution_count": null,
      "outputs": [
        {
          "output_type": "stream",
          "name": "stdout",
          "text": [
            "Intercept : 6.948683200001357\n",
            "Slope : [0.05454575]\n"
          ]
        }
      ]
    },
    {
      "cell_type": "markdown",
      "source": [
        "here,we are calculating the intercept and slope of the linear regression model data. for that we are printing the intercept value using the lm.intercept and slope value with the lm.coef.\n",
        "intercept value is approx 6.949 which is shows the predicted value of the dependent variable if the predictes is 0. slope is 0.054 which shows the changes in the dependent varibale for only one unit change in the predicted value of tv.\n",
        "\n"
      ],
      "metadata": {
        "id": "CdegYtbHj2Xy"
      }
    },
    {
      "cell_type": "markdown",
      "source": [
        "####12. Evaluating the model"
      ],
      "metadata": {
        "id": "CyDIiWXmbGVT"
      }
    },
    {
      "cell_type": "code",
      "source": [
        "# Making Predictions of y_value\n",
        "y_train_pred = lm.predict(X_train_lm)\n",
        "y_test_pred = lm.predict(X_test_lm)\n",
        "\n",
        "# Comparing the r2 value of both train and test data\n",
        "print(r2_score(y_train,y_train_pred))\n",
        "print(r2_score(y_test,y_test_pred))"
      ],
      "metadata": {
        "colab": {
          "base_uri": "https://localhost:8080/"
        },
        "id": "Xuaq9DcppYoY",
        "outputId": "dcabcfaf-e192-4d6b-a5a8-28ac5677d4c7"
      },
      "execution_count": null,
      "outputs": [
        {
          "output_type": "stream",
          "name": "stdout",
          "text": [
            "0.8157933136480389\n",
            "0.7921031601245662\n"
          ]
        }
      ]
    },
    {
      "cell_type": "markdown",
      "source": [
        "here, we are evaluating the model using the predict() method.\n",
        "first, we are making the prediction of the y_value. first we are creating variable y_train_pred and now we are using linear model alias lm with predict() method inside the x_train_lm. after that we are creating other variable name as y_test_pred and storing the value of lm.predict() values for x_test_lm.after that now we are printing the r2_Score with y_train and y_train_pred and y_test with y_test_pred.\n",
        "\n",
        "focusing on the results, for the r-squared is for training the data is approx 0.815 which is 81.6% its shows that there is distinction in the training set. now, for the test data r-squared is 0.792 which is 79.2% shows the difference in the test data.\n",
        "\n"
      ],
      "metadata": {
        "id": "_2ieTjtzj24Q"
      }
    },
    {
      "cell_type": "markdown",
      "source": [
        "#Write the observations of the above tutorial here**(10%)**"
      ],
      "metadata": {
        "id": "SPRZ2apRd7ry"
      }
    },
    {
      "cell_type": "markdown",
      "source": [
        "we are creting the linear regression model for the sales data of the tv,radio and news papers.\n",
        "first , we are using the dataset of the company sales with different three products. here first we are reading the data using the pandas library and after that checking the shape of the data and confirm the sized of the data. here all the variables data types are float64. after that we are calculating the descriptive statistics such as mean, standard deviation, quartiles and focusing on the data radio sales is lower and mean is also low in data.\n",
        "\n",
        "we are using the visualization plots for displaying the data for radio, tv and newspapers with sales data. scatter plot represent that sales is different in every different option, while heat map is we use for checking the relationship between the variables. here, its depicts that tv is the highest sales and strong positive relation with the sales then radio and news papers.\n",
        "\n",
        "after that we are splitting the data in to train and test where train is 70% and test is 30% of the data, we are spliting the data using the sklearn train_test_split function.random-state set as 100.\n",
        "\n",
        "now, we are using the linear regression model for statsmodel and scikit-learn libraries. here we are using the constant in the independent varibale for the intercept in the linear regression model.  now, we are performing model evaluation using , r-squared, f-statistics, p-value and coefficient significance for checking the modle quality and checking the difference in the sales. here we are using r-squared for checking how model is well fit.\n",
        "\n",
        "now,we are performing the residual analysis which is shows the different between actual and predicted value, here we create the histogram for the residual and also scatter plot to check the independent varibale use for checking the pattern and trends of the data. now,we are using the predicted sales values for the training and testing data. r-squared is calculate the with train and test set which is shows that how well model is perform with untrained data. now, intercept and coeffiecient is calculated for helping to understand the linear regression model for the relation between dependent and independent variables.\n",
        "now, we are creating the scatter plot for the model performance on the test data. here, all the actual data points is along well with the predicted value which shows that model is fit well.\n",
        "\n",
        "all in all, here tcv is the most affected on sales and linear model is good fit with the tv.\n",
        "\n"
      ],
      "metadata": {
        "id": "dmbbiAB_obzS"
      }
    },
    {
      "cell_type": "markdown",
      "source": [
        "#Task 1:\n",
        "Perform linear regression on the tutorial given using the dataset attached.After you are successful in executing and fixing the issues with the current version, use dataset of your choice and execute it again.**(30%)**"
      ],
      "metadata": {
        "id": "ZZo8A6SecIij"
      }
    },
    {
      "cell_type": "code",
      "source": [
        "advertising = pd.read_csv(\"Company_data.csv\")\n",
        "# Creating X and y\n",
        "X = advertising['Radio']\n",
        "y = advertising['Sales']\n",
        "# Splitting the varaibles as training and testing\n",
        "from sklearn.model_selection import train_test_split\n",
        "X_train1, X_test1, y_train1, y_test1 = train_test_split(X, y, train_size = 0.7,\n",
        "                                                    test_size = 0.3, random_state = 100)\n",
        "# Take a look at the train dataset\n",
        "X_train1\n",
        "y_train1\n"
      ],
      "metadata": {
        "colab": {
          "base_uri": "https://localhost:8080/"
        },
        "id": "0hjGr2LjyFL_",
        "outputId": "1170e8de-bbad-4940-b8ac-e94c5e942d5e"
      },
      "execution_count": null,
      "outputs": [
        {
          "output_type": "execute_result",
          "data": {
            "text/plain": [
              "74     17.0\n",
              "3      16.5\n",
              "185    22.6\n",
              "26     15.0\n",
              "90     14.0\n",
              "       ... \n",
              "87     16.0\n",
              "103    19.7\n",
              "67     13.4\n",
              "24      9.7\n",
              "8       4.8\n",
              "Name: Sales, Length: 140, dtype: float64"
            ]
          },
          "metadata": {},
          "execution_count": 23
        }
      ]
    },
    {
      "cell_type": "code",
      "source": [
        "# Importing Statsmodels.api library from Stamodel package\n",
        "import statsmodels.api as sm\n",
        "\n",
        "\n",
        "# Adding a constant to get an intercept\n",
        "X_train_sm1 = sm.add_constant(X_train1)\n",
        " # Fitting the resgression line using 'OLS'\n",
        "lr1 = sm.OLS(y_train1, X_train_sm1).fit()\n",
        "\n",
        "\n",
        "# Printing the parameters\n",
        "lr1.params\n"
      ],
      "metadata": {
        "colab": {
          "base_uri": "https://localhost:8080/"
        },
        "id": "9odGo849y2Kn",
        "outputId": "13c8d594-da86-4b02-ab34-d35eb07c94ee"
      },
      "execution_count": null,
      "outputs": [
        {
          "output_type": "execute_result",
          "data": {
            "text/plain": [
              "const    12.164674\n",
              "Radio     0.123920\n",
              "dtype: float64"
            ]
          },
          "metadata": {},
          "execution_count": 24
        }
      ]
    },
    {
      "cell_type": "code",
      "source": [
        "# Performing a summary to list out all the different parameters of the regression line fitted\n",
        "lr1.summary()\n"
      ],
      "metadata": {
        "colab": {
          "base_uri": "https://localhost:8080/",
          "height": 441
        },
        "id": "Gp3L885Jy6Cf",
        "outputId": "700a12d4-1eab-4e91-917d-3956b9798afc"
      },
      "execution_count": null,
      "outputs": [
        {
          "output_type": "execute_result",
          "data": {
            "text/plain": [
              "<class 'statsmodels.iolib.summary.Summary'>\n",
              "\"\"\"\n",
              "                            OLS Regression Results                            \n",
              "==============================================================================\n",
              "Dep. Variable:                  Sales   R-squared:                       0.112\n",
              "Model:                            OLS   Adj. R-squared:                  0.105\n",
              "Method:                 Least Squares   F-statistic:                     17.38\n",
              "Date:                Sat, 14 Oct 2023   Prob (F-statistic):           5.36e-05\n",
              "Time:                        09:05:13   Log-Likelihood:                -431.24\n",
              "No. Observations:                 140   AIC:                             866.5\n",
              "Df Residuals:                     138   BIC:                             872.4\n",
              "Df Model:                           1                                         \n",
              "Covariance Type:            nonrobust                                         \n",
              "==============================================================================\n",
              "                 coef    std err          t      P>|t|      [0.025      0.975]\n",
              "------------------------------------------------------------------------------\n",
              "const         12.1647      0.816     14.914      0.000      10.552      13.777\n",
              "Radio          0.1239      0.030      4.169      0.000       0.065       0.183\n",
              "==============================================================================\n",
              "Omnibus:                        9.946   Durbin-Watson:                   1.859\n",
              "Prob(Omnibus):                  0.007   Jarque-Bera (JB):                6.526\n",
              "Skew:                          -0.384   Prob(JB):                       0.0383\n",
              "Kurtosis:                       2.273   Cond. No.                         50.0\n",
              "==============================================================================\n",
              "\n",
              "Notes:\n",
              "[1] Standard Errors assume that the covariance matrix of the errors is correctly specified.\n",
              "\"\"\""
            ],
            "text/html": [
              "<table class=\"simpletable\">\n",
              "<caption>OLS Regression Results</caption>\n",
              "<tr>\n",
              "  <th>Dep. Variable:</th>          <td>Sales</td>      <th>  R-squared:         </th> <td>   0.112</td>\n",
              "</tr>\n",
              "<tr>\n",
              "  <th>Model:</th>                   <td>OLS</td>       <th>  Adj. R-squared:    </th> <td>   0.105</td>\n",
              "</tr>\n",
              "<tr>\n",
              "  <th>Method:</th>             <td>Least Squares</td>  <th>  F-statistic:       </th> <td>   17.38</td>\n",
              "</tr>\n",
              "<tr>\n",
              "  <th>Date:</th>             <td>Sat, 14 Oct 2023</td> <th>  Prob (F-statistic):</th> <td>5.36e-05</td>\n",
              "</tr>\n",
              "<tr>\n",
              "  <th>Time:</th>                 <td>09:05:13</td>     <th>  Log-Likelihood:    </th> <td> -431.24</td>\n",
              "</tr>\n",
              "<tr>\n",
              "  <th>No. Observations:</th>      <td>   140</td>      <th>  AIC:               </th> <td>   866.5</td>\n",
              "</tr>\n",
              "<tr>\n",
              "  <th>Df Residuals:</th>          <td>   138</td>      <th>  BIC:               </th> <td>   872.4</td>\n",
              "</tr>\n",
              "<tr>\n",
              "  <th>Df Model:</th>              <td>     1</td>      <th>                     </th>     <td> </td>   \n",
              "</tr>\n",
              "<tr>\n",
              "  <th>Covariance Type:</th>      <td>nonrobust</td>    <th>                     </th>     <td> </td>   \n",
              "</tr>\n",
              "</table>\n",
              "<table class=\"simpletable\">\n",
              "<tr>\n",
              "    <td></td>       <th>coef</th>     <th>std err</th>      <th>t</th>      <th>P>|t|</th>  <th>[0.025</th>    <th>0.975]</th>  \n",
              "</tr>\n",
              "<tr>\n",
              "  <th>const</th> <td>   12.1647</td> <td>    0.816</td> <td>   14.914</td> <td> 0.000</td> <td>   10.552</td> <td>   13.777</td>\n",
              "</tr>\n",
              "<tr>\n",
              "  <th>Radio</th> <td>    0.1239</td> <td>    0.030</td> <td>    4.169</td> <td> 0.000</td> <td>    0.065</td> <td>    0.183</td>\n",
              "</tr>\n",
              "</table>\n",
              "<table class=\"simpletable\">\n",
              "<tr>\n",
              "  <th>Omnibus:</th>       <td> 9.946</td> <th>  Durbin-Watson:     </th> <td>   1.859</td>\n",
              "</tr>\n",
              "<tr>\n",
              "  <th>Prob(Omnibus):</th> <td> 0.007</td> <th>  Jarque-Bera (JB):  </th> <td>   6.526</td>\n",
              "</tr>\n",
              "<tr>\n",
              "  <th>Skew:</th>          <td>-0.384</td> <th>  Prob(JB):          </th> <td>  0.0383</td>\n",
              "</tr>\n",
              "<tr>\n",
              "  <th>Kurtosis:</th>      <td> 2.273</td> <th>  Cond. No.          </th> <td>    50.0</td>\n",
              "</tr>\n",
              "</table><br/><br/>Notes:<br/>[1] Standard Errors assume that the covariance matrix of the errors is correctly specified."
            ],
            "text/latex": "\\begin{center}\n\\begin{tabular}{lclc}\n\\toprule\n\\textbf{Dep. Variable:}    &      Sales       & \\textbf{  R-squared:         } &     0.112   \\\\\n\\textbf{Model:}            &       OLS        & \\textbf{  Adj. R-squared:    } &     0.105   \\\\\n\\textbf{Method:}           &  Least Squares   & \\textbf{  F-statistic:       } &     17.38   \\\\\n\\textbf{Date:}             & Sat, 14 Oct 2023 & \\textbf{  Prob (F-statistic):} &  5.36e-05   \\\\\n\\textbf{Time:}             &     09:05:13     & \\textbf{  Log-Likelihood:    } &   -431.24   \\\\\n\\textbf{No. Observations:} &         140      & \\textbf{  AIC:               } &     866.5   \\\\\n\\textbf{Df Residuals:}     &         138      & \\textbf{  BIC:               } &     872.4   \\\\\n\\textbf{Df Model:}         &           1      & \\textbf{                     } &             \\\\\n\\textbf{Covariance Type:}  &    nonrobust     & \\textbf{                     } &             \\\\\n\\bottomrule\n\\end{tabular}\n\\begin{tabular}{lcccccc}\n               & \\textbf{coef} & \\textbf{std err} & \\textbf{t} & \\textbf{P$> |$t$|$} & \\textbf{[0.025} & \\textbf{0.975]}  \\\\\n\\midrule\n\\textbf{const} &      12.1647  &        0.816     &    14.914  &         0.000        &       10.552    &       13.777     \\\\\n\\textbf{Radio} &       0.1239  &        0.030     &     4.169  &         0.000        &        0.065    &        0.183     \\\\\n\\bottomrule\n\\end{tabular}\n\\begin{tabular}{lclc}\n\\textbf{Omnibus:}       &  9.946 & \\textbf{  Durbin-Watson:     } &    1.859  \\\\\n\\textbf{Prob(Omnibus):} &  0.007 & \\textbf{  Jarque-Bera (JB):  } &    6.526  \\\\\n\\textbf{Skew:}          & -0.384 & \\textbf{  Prob(JB):          } &   0.0383  \\\\\n\\textbf{Kurtosis:}      &  2.273 & \\textbf{  Cond. No.          } &     50.0  \\\\\n\\bottomrule\n\\end{tabular}\n%\\caption{OLS Regression Results}\n\\end{center}\n\nNotes: \\newline\n [1] Standard Errors assume that the covariance matrix of the errors is correctly specified."
          },
          "metadata": {},
          "execution_count": 25
        }
      ]
    },
    {
      "cell_type": "code",
      "source": [
        "# Visualizing the regression line\n",
        "plt.scatter(X_train1, y_train1)\n",
        "plt.plot(X_train1, 12.164 + 0.123*X_train1, 'r')\n",
        "plt.show()\n"
      ],
      "metadata": {
        "colab": {
          "base_uri": "https://localhost:8080/",
          "height": 430
        },
        "id": "3749UtEuy8Sy",
        "outputId": "5d1e0ec5-89c5-4c4e-b1e7-a1c3612d024c"
      },
      "execution_count": null,
      "outputs": [
        {
          "output_type": "display_data",
          "data": {
            "text/plain": [
              "<Figure size 640x480 with 1 Axes>"
            ],
            "image/png": "[encoded data removed]"
          },
          "metadata": {}
        }
      ]
    },
    {
      "cell_type": "code",
      "source": [
        "# Predicting y_value using traingn data of X\n",
        "y_train_pred1 = lr1.predict(X_train_sm1)\n",
        "\n",
        "\n",
        "# Creating residuals from the y_train data and predicted y_data\n",
        "res1 = (y_train1 - y_train_pred1)\n"
      ],
      "metadata": {
        "id": "eVWsnYVQy_Cq"
      },
      "execution_count": null,
      "outputs": []
    },
    {
      "cell_type": "code",
      "source": [
        " # Plotting the histogram using the residual values\n",
        "fig = plt.figure()\n",
        "sns.distplot(res1, bins = 15)\n",
        "plt.title('Error Terms', fontsize = 15)\n",
        "plt.xlabel('y_train1 - y_train_pred1', fontsize = 15)\n",
        "plt.show()\n"
      ],
      "metadata": {
        "colab": {
          "base_uri": "https://localhost:8080/",
          "height": 481
        },
        "id": "Ku3nX8_bzCyU",
        "outputId": "57eafc45-e049-4ed9-9537-d52c2d963a76"
      },
      "execution_count": null,
      "outputs": [
        {
          "output_type": "display_data",
          "data": {
            "text/plain": [
              "<Figure size 640x480 with 1 Axes>"
            ],
            "image/png": "[encoded data removed]"
          },
          "metadata": {}
        }
      ]
    },
    {
      "cell_type": "code",
      "source": [
        "# Looking for any patterns in the residuals\n",
        "plt.scatter(X_train1,res1)\n",
        "plt.show()\n"
      ],
      "metadata": {
        "colab": {
          "base_uri": "https://localhost:8080/",
          "height": 430
        },
        "id": "19hmhp8ZzFMm",
        "outputId": "52fc5cb5-0828-41d6-bb9e-11634db54859"
      },
      "execution_count": null,
      "outputs": [
        {
          "output_type": "display_data",
          "data": {
            "text/plain": [
              "<Figure size 640x480 with 1 Axes>"
            ],
            "image/png": "[encoded data removed]"
          },
          "metadata": {}
        }
      ]
    },
    {
      "cell_type": "code",
      "source": [
        " # Adding a constant to X_test\n",
        "X_test_sm1 = sm.add_constant(X_test1)\n",
        "\n",
        "\n",
        "# Predicting the y values corresponding to X_test_sm\n",
        "y_test_pred1 = lr1.predict(X_test_sm1)\n",
        "\n",
        "\n",
        "# Printing the first 15 predicted values\n",
        "y_test_pred1\n"
      ],
      "metadata": {
        "colab": {
          "base_uri": "https://localhost:8080/"
        },
        "id": "X35oBJDwzHPP",
        "outputId": "249872e5-a995-47af-c4dd-ae459208af7e"
      },
      "execution_count": null,
      "outputs": [
        {
          "output_type": "execute_result",
          "data": {
            "text/plain": [
              "126    16.985157\n",
              "104    16.415126\n",
              "99     17.332133\n",
              "92     16.315990\n",
              "111    16.873629\n",
              "167    12.809058\n",
              "116    13.936728\n",
              "96     12.598394\n",
              "52     17.332133\n",
              "69     17.604756\n",
              "164    13.986296\n",
              "124    16.167286\n",
              "182    12.871018\n",
              "154    14.779383\n",
              "125    13.626929\n",
              "196    12.771882\n",
              "194    16.576222\n",
              "177    13.131249\n",
              "163    16.724925\n",
              "31     14.320880\n",
              "11     15.138751\n",
              "73     12.871018\n",
              "15     18.075652\n",
              "41     16.303598\n",
              "97     14.766992\n",
              "128    18.236748\n",
              "133    16.315990\n",
              "82     14.680248\n",
              "139    17.604756\n",
              "123    16.452302\n",
              "83     17.679108\n",
              "65     13.317129\n",
              "151    13.205601\n",
              "162    14.407624\n",
              "170    13.602145\n",
              "77     15.696391\n",
              "32     12.350554\n",
              "173    13.044505\n",
              "174    12.586002\n",
              "85     14.444800\n",
              "168    15.089183\n",
              "112    14.073040\n",
              "171    14.754600\n",
              "181    12.833842\n",
              "7      14.593504\n",
              "46     13.391481\n",
              "75     17.579973\n",
              "28     15.522903\n",
              "29     14.147392\n",
              "195    12.623178\n",
              "40     14.928087\n",
              "153    17.084293\n",
              "115    16.501870\n",
              "64     17.468445\n",
              "59     15.820310\n",
              "1      17.034725\n",
              "192    12.672746\n",
              "136    16.997549\n",
              "152    15.052007\n",
              "161    16.601006\n",
              "dtype: float64"
            ]
          },
          "metadata": {},
          "execution_count": 30
        }
      ]
    },
    {
      "cell_type": "code",
      "source": [
        " # Importing r2_square\n",
        "from sklearn.metrics import r2_score\n",
        "\n",
        "\n",
        "# Checking the R-squared value\n",
        "r_squared1 = r2_score(y_test1, y_test_pred1)\n",
        "r_squared1\n"
      ],
      "metadata": {
        "colab": {
          "base_uri": "https://localhost:8080/"
        },
        "id": "OXZmJ2NpzJ_M",
        "outputId": "0d4431eb-d4a6-4046-f2f0-99ccd10f2176"
      },
      "execution_count": null,
      "outputs": [
        {
          "output_type": "execute_result",
          "data": {
            "text/plain": [
              "0.1541334154583961"
            ]
          },
          "metadata": {},
          "execution_count": 31
        }
      ]
    },
    {
      "cell_type": "code",
      "source": [
        "# Visualize the line on the test set\n",
        "plt.scatter(X_test1, y_test1)\n",
        "plt.plot(X_test1, y_test_pred1, 'r')\n",
        "plt.show()\n"
      ],
      "metadata": {
        "colab": {
          "base_uri": "https://localhost:8080/",
          "height": 430
        },
        "id": "8V0nVQq6zNAI",
        "outputId": "e653770d-8126-4abe-d4e1-06c814cf2041"
      },
      "execution_count": null,
      "outputs": [
        {
          "output_type": "display_data",
          "data": {
            "text/plain": [
              "<Figure size 640x480 with 1 Axes>"
            ],
            "image/png": "[encoded data removed]"
          },
          "metadata": {}
        }
      ]
    },
    {
      "cell_type": "code",
      "source": [
        "# Splitting the data into train and test\n",
        "from sklearn.model_selection import train_test_split\n",
        "X_train_lm1, X_test_lm1, y_train_lm1, y_test_lm1 = train_test_split(X, y, train_size = 0.7,\n",
        "                                                                test_size = 0.3, random_state = 100)\n",
        " # Shape of the train set without adding column\n",
        "X_train_lm1.shape\n"
      ],
      "metadata": {
        "colab": {
          "base_uri": "https://localhost:8080/"
        },
        "id": "8PplEe7XzPaz",
        "outputId": "80ffdcc7-1548-4c05-eead-a0fb6cf89a72"
      },
      "execution_count": null,
      "outputs": [
        {
          "output_type": "execute_result",
          "data": {
            "text/plain": [
              "(140,)"
            ]
          },
          "metadata": {},
          "execution_count": 33
        }
      ]
    },
    {
      "cell_type": "code",
      "source": [
        "# Adding additional column to the train and test data\n",
        "X_train_lm1 = X_train_lm1.values.reshape(-1,1)\n",
        "X_test_lm1= X_test_lm1.values.reshape(-1,1)\n",
        "\n",
        "\n",
        "print(X_train_lm.shape)\n",
        "print(X_test_lm.shape)"
      ],
      "metadata": {
        "colab": {
          "base_uri": "https://localhost:8080/"
        },
        "id": "7AD6iU9fzYPV",
        "outputId": "3e1ca82a-b713-427e-a41e-d8acb20f59d0"
      },
      "execution_count": null,
      "outputs": [
        {
          "output_type": "stream",
          "name": "stdout",
          "text": [
            "(140, 1)\n",
            "(60, 1)\n"
          ]
        }
      ]
    },
    {
      "cell_type": "code",
      "source": [
        "from sklearn.linear_model import LinearRegression\n",
        "\n",
        "\n",
        "# Creating an object of Linear Regression\n",
        "lm1 = LinearRegression()\n",
        "# Fit the model using .fit() method\n",
        "lm1.fit(X_train_lm1, y_train_lm1)\n",
        "# Intercept value\n",
        "print(\"Intercept :\",lm1.intercept_)\n",
        "\n",
        "\n",
        "# Slope value\n",
        "print('Slope :',lm1.coef_)\n"
      ],
      "metadata": {
        "colab": {
          "base_uri": "https://localhost:8080/"
        },
        "id": "nSjrTD0RzZKN",
        "outputId": "2ac7b27f-dd97-4d36-bbba-b207dba3aa82"
      },
      "execution_count": null,
      "outputs": [
        {
          "output_type": "stream",
          "name": "stdout",
          "text": [
            "Intercept : 12.164674278168622\n",
            "Slope : [0.12391987]\n"
          ]
        }
      ]
    },
    {
      "cell_type": "code",
      "source": [
        "# Making Predictions of y_value\n",
        "y_train_pred1 = lm1.predict(X_train_lm1)\n",
        "y_test_pred1 = lm1.predict(X_test_lm1)\n",
        "\n",
        "\n",
        "# Comparing the r2 value of both train and test data\n",
        "print(r2_score(y_train1,y_train_pred1))\n",
        "print(r2_score(y_test1,y_test_pred1))"
      ],
      "metadata": {
        "colab": {
          "base_uri": "https://localhost:8080/"
        },
        "id": "zmcuUH1-ziG-",
        "outputId": "7a9eab49-4b73-47df-d0af-a19b84d53983"
      },
      "execution_count": null,
      "outputs": [
        {
          "output_type": "stream",
          "name": "stdout",
          "text": [
            "0.11188119510677019\n",
            "0.15413341545839598\n"
          ]
        }
      ]
    },
    {
      "cell_type": "markdown",
      "source": [
        "**Linear Regression Model using Stored data for sales**"
      ],
      "metadata": {
        "id": "d2BkZZVfzkMD"
      }
    },
    {
      "cell_type": "code",
      "source": [
        "store = pd.read_csv(\"Stores.csv\")\n",
        "# Creating X and y\n",
        "Xs = store['Items_Available']\n",
        "ys = store['Store_Sales']\n",
        "# Splitting the varaibles as training and testing\n",
        "from sklearn.model_selection import train_test_split\n",
        "X_train2, X_test2, y_train2, y_test2 = train_test_split(Xs, ys, train_size = 0.7,\n",
        "                                                    test_size = 0.3, random_state = 100)\n",
        "# Take a look at the train dataset\n",
        "X_train2\n",
        "y_train2\n",
        "\n"
      ],
      "metadata": {
        "colab": {
          "base_uri": "https://localhost:8080/"
        },
        "id": "22-uBdDczsjz",
        "outputId": "b1da675e-e127-4a2e-cb16-3e89c523cdfa"
      },
      "execution_count": null,
      "outputs": [
        {
          "output_type": "execute_result",
          "data": {
            "text/plain": [
              "85     51280\n",
              "798    85670\n",
              "161    45020\n",
              "461    44240\n",
              "517    62770\n",
              "       ...  \n",
              "855    87220\n",
              "871    98260\n",
              "835    58160\n",
              "792    55390\n",
              "520    38280\n",
              "Name: Store_Sales, Length: 627, dtype: int64"
            ]
          },
          "metadata": {},
          "execution_count": 37
        }
      ]
    },
    {
      "cell_type": "code",
      "source": [
        " # Importing Statsmodels.api library from Stamodel package\n",
        "import statsmodels.api as sm\n",
        "\n",
        "\n",
        "# Adding a constant to get an intercept\n",
        "X_train_sm2 = sm.add_constant(X_train2)\n",
        " # Fitting the resgression line using 'OLS'\n",
        "lr2 = sm.OLS(y_train2, X_train_sm2).fit()\n",
        "\n",
        "\n",
        "# Printing the parameters\n",
        "lr2.params\n"
      ],
      "metadata": {
        "colab": {
          "base_uri": "https://localhost:8080/"
        },
        "id": "uWjsw-jA0T93",
        "outputId": "9647e5a0-a0aa-4793-8530-d3a6a4804141"
      },
      "execution_count": null,
      "outputs": [
        {
          "output_type": "execute_result",
          "data": {
            "text/plain": [
              "const              48385.180243\n",
              "Items_Available        6.289538\n",
              "dtype: float64"
            ]
          },
          "metadata": {},
          "execution_count": 38
        }
      ]
    },
    {
      "cell_type": "code",
      "source": [
        " # Performing a summary to list out all the different parameters of the regression line fitted\n",
        "lr2.summary()\n"
      ],
      "metadata": {
        "colab": {
          "base_uri": "https://localhost:8080/",
          "height": 476
        },
        "id": "bMOPhjjp0U7J",
        "outputId": "bf4cbcc3-a9ed-47e8-b155-33a6679261e5"
      },
      "execution_count": null,
      "outputs": [
        {
          "output_type": "execute_result",
          "data": {
            "text/plain": [
              "<class 'statsmodels.iolib.summary.Summary'>\n",
              "\"\"\"\n",
              "                            OLS Regression Results                            \n",
              "==============================================================================\n",
              "Dep. Variable:            Store_Sales   R-squared:                       0.012\n",
              "Model:                            OLS   Adj. R-squared:                  0.011\n",
              "Method:                 Least Squares   F-statistic:                     7.825\n",
              "Date:                Sat, 14 Oct 2023   Prob (F-statistic):            0.00531\n",
              "Time:                        09:05:44   Log-Likelihood:                -6996.8\n",
              "No. Observations:                 627   AIC:                         1.400e+04\n",
              "Df Residuals:                     625   BIC:                         1.401e+04\n",
              "Df Model:                           1                                         \n",
              "Covariance Type:            nonrobust                                         \n",
              "===================================================================================\n",
              "                      coef    std err          t      P>|t|      [0.025      0.975]\n",
              "-----------------------------------------------------------------------------------\n",
              "const            4.839e+04   4055.670     11.930      0.000    4.04e+04    5.63e+04\n",
              "Items_Available     6.2895      2.248      2.797      0.005       1.874      10.705\n",
              "==============================================================================\n",
              "Omnibus:                        8.587   Durbin-Watson:                   2.080\n",
              "Prob(Omnibus):                  0.014   Jarque-Bera (JB):                7.506\n",
              "Skew:                           0.202   Prob(JB):                       0.0234\n",
              "Kurtosis:                       2.648   Cond. No.                     1.08e+04\n",
              "==============================================================================\n",
              "\n",
              "Notes:\n",
              "[1] Standard Errors assume that the covariance matrix of the errors is correctly specified.\n",
              "[2] The condition number is large, 1.08e+04. This might indicate that there are\n",
              "strong multicollinearity or other numerical problems.\n",
              "\"\"\""
            ],
            "text/html": [
              "<table class=\"simpletable\">\n",
              "<caption>OLS Regression Results</caption>\n",
              "<tr>\n",
              "  <th>Dep. Variable:</th>       <td>Store_Sales</td>   <th>  R-squared:         </th> <td>   0.012</td> \n",
              "</tr>\n",
              "<tr>\n",
              "  <th>Model:</th>                   <td>OLS</td>       <th>  Adj. R-squared:    </th> <td>   0.011</td> \n",
              "</tr>\n",
              "<tr>\n",
              "  <th>Method:</th>             <td>Least Squares</td>  <th>  F-statistic:       </th> <td>   7.825</td> \n",
              "</tr>\n",
              "<tr>\n",
              "  <th>Date:</th>             <td>Sat, 14 Oct 2023</td> <th>  Prob (F-statistic):</th>  <td>0.00531</td> \n",
              "</tr>\n",
              "<tr>\n",
              "  <th>Time:</th>                 <td>09:05:44</td>     <th>  Log-Likelihood:    </th> <td> -6996.8</td> \n",
              "</tr>\n",
              "<tr>\n",
              "  <th>No. Observations:</th>      <td>   627</td>      <th>  AIC:               </th> <td>1.400e+04</td>\n",
              "</tr>\n",
              "<tr>\n",
              "  <th>Df Residuals:</th>          <td>   625</td>      <th>  BIC:               </th> <td>1.401e+04</td>\n",
              "</tr>\n",
              "<tr>\n",
              "  <th>Df Model:</th>              <td>     1</td>      <th>                     </th>     <td> </td>    \n",
              "</tr>\n",
              "<tr>\n",
              "  <th>Covariance Type:</th>      <td>nonrobust</td>    <th>                     </th>     <td> </td>    \n",
              "</tr>\n",
              "</table>\n",
              "<table class=\"simpletable\">\n",
              "<tr>\n",
              "         <td></td>            <th>coef</th>     <th>std err</th>      <th>t</th>      <th>P>|t|</th>  <th>[0.025</th>    <th>0.975]</th>  \n",
              "</tr>\n",
              "<tr>\n",
              "  <th>const</th>           <td> 4.839e+04</td> <td> 4055.670</td> <td>   11.930</td> <td> 0.000</td> <td> 4.04e+04</td> <td> 5.63e+04</td>\n",
              "</tr>\n",
              "<tr>\n",
              "  <th>Items_Available</th> <td>    6.2895</td> <td>    2.248</td> <td>    2.797</td> <td> 0.005</td> <td>    1.874</td> <td>   10.705</td>\n",
              "</tr>\n",
              "</table>\n",
              "<table class=\"simpletable\">\n",
              "<tr>\n",
              "  <th>Omnibus:</th>       <td> 8.587</td> <th>  Durbin-Watson:     </th> <td>   2.080</td>\n",
              "</tr>\n",
              "<tr>\n",
              "  <th>Prob(Omnibus):</th> <td> 0.014</td> <th>  Jarque-Bera (JB):  </th> <td>   7.506</td>\n",
              "</tr>\n",
              "<tr>\n",
              "  <th>Skew:</th>          <td> 0.202</td> <th>  Prob(JB):          </th> <td>  0.0234</td>\n",
              "</tr>\n",
              "<tr>\n",
              "  <th>Kurtosis:</th>      <td> 2.648</td> <th>  Cond. No.          </th> <td>1.08e+04</td>\n",
              "</tr>\n",
              "</table><br/><br/>Notes:<br/>[1] Standard Errors assume that the covariance matrix of the errors is correctly specified.<br/>[2] The condition number is large, 1.08e+04. This might indicate that there are<br/>strong multicollinearity or other numerical problems."
            ],
            "text/latex": "\\begin{center}\n\\begin{tabular}{lclc}\n\\toprule\n\\textbf{Dep. Variable:}    &   Store\\_Sales   & \\textbf{  R-squared:         } &     0.012   \\\\\n\\textbf{Model:}            &       OLS        & \\textbf{  Adj. R-squared:    } &     0.011   \\\\\n\\textbf{Method:}           &  Least Squares   & \\textbf{  F-statistic:       } &     7.825   \\\\\n\\textbf{Date:}             & Sat, 14 Oct 2023 & \\textbf{  Prob (F-statistic):} &  0.00531    \\\\\n\\textbf{Time:}             &     09:05:44     & \\textbf{  Log-Likelihood:    } &   -6996.8   \\\\\n\\textbf{No. Observations:} &         627      & \\textbf{  AIC:               } & 1.400e+04   \\\\\n\\textbf{Df Residuals:}     &         625      & \\textbf{  BIC:               } & 1.401e+04   \\\\\n\\textbf{Df Model:}         &           1      & \\textbf{                     } &             \\\\\n\\textbf{Covariance Type:}  &    nonrobust     & \\textbf{                     } &             \\\\\n\\bottomrule\n\\end{tabular}\n\\begin{tabular}{lcccccc}\n                          & \\textbf{coef} & \\textbf{std err} & \\textbf{t} & \\textbf{P$> |$t$|$} & \\textbf{[0.025} & \\textbf{0.975]}  \\\\\n\\midrule\n\\textbf{const}            &    4.839e+04  &     4055.670     &    11.930  &         0.000        &     4.04e+04    &     5.63e+04     \\\\\n\\textbf{Items\\_Available} &       6.2895  &        2.248     &     2.797  &         0.005        &        1.874    &       10.705     \\\\\n\\bottomrule\n\\end{tabular}\n\\begin{tabular}{lclc}\n\\textbf{Omnibus:}       &  8.587 & \\textbf{  Durbin-Watson:     } &    2.080  \\\\\n\\textbf{Prob(Omnibus):} &  0.014 & \\textbf{  Jarque-Bera (JB):  } &    7.506  \\\\\n\\textbf{Skew:}          &  0.202 & \\textbf{  Prob(JB):          } &   0.0234  \\\\\n\\textbf{Kurtosis:}      &  2.648 & \\textbf{  Cond. No.          } & 1.08e+04  \\\\\n\\bottomrule\n\\end{tabular}\n%\\caption{OLS Regression Results}\n\\end{center}\n\nNotes: \\newline\n [1] Standard Errors assume that the covariance matrix of the errors is correctly specified. \\newline\n [2] The condition number is large, 1.08e+04. This might indicate that there are \\newline\n strong multicollinearity or other numerical problems."
          },
          "metadata": {},
          "execution_count": 39
        }
      ]
    },
    {
      "cell_type": "code",
      "source": [
        " # Visualizing the regression line\n",
        "plt.scatter(X_train2, y_train2)\n",
        "plt.plot(X_train2, 48385.180243 +  6.289538*X_train2, 'r')\n",
        "plt.show()\n"
      ],
      "metadata": {
        "colab": {
          "base_uri": "https://localhost:8080/",
          "height": 431
        },
        "id": "_m3z2MkY147w",
        "outputId": "99340f5d-0ae7-452a-cfee-1c089b66f13e"
      },
      "execution_count": null,
      "outputs": [
        {
          "output_type": "display_data",
          "data": {
            "text/plain": [
              "<Figure size 640x480 with 1 Axes>"
            ],
            "image/png": "[encoded data removed]"
          },
          "metadata": {}
        }
      ]
    },
    {
      "cell_type": "code",
      "source": [
        " # Predicting y_value using traingn data of X\n",
        "y_train_pred2 = lr2.predict(X_train_sm2)\n",
        "# Creating residuals from the y_train data and predicted y_data\n",
        "res2 = (y_train2 - y_train_pred2)\n",
        " # Plotting the histogram using the residual values\n",
        "fig = plt.figure()\n",
        "sns.distplot(res2, bins = 15)\n",
        "plt.title('Error Terms', fontsize = 15)\n",
        "plt.xlabel('y_train2 - y_train_pred2', fontsize = 15)\n",
        "plt.show()\n",
        "\n",
        "\n"
      ],
      "metadata": {
        "colab": {
          "base_uri": "https://localhost:8080/",
          "height": 481
        },
        "id": "HRhXX9-23QwP",
        "outputId": "8473d25b-cba8-4b73-a704-a93f04cc901a"
      },
      "execution_count": null,
      "outputs": [
        {
          "output_type": "display_data",
          "data": {
            "text/plain": [
              "<Figure size 640x480 with 1 Axes>"
            ],
            "image/png": "[encoded data removed]"
          },
          "metadata": {}
        }
      ]
    },
    {
      "cell_type": "code",
      "source": [
        "# Looking for any patterns in the residuals\n",
        "plt.scatter(X_train2,res2)\n",
        "plt.show()\n"
      ],
      "metadata": {
        "colab": {
          "base_uri": "https://localhost:8080/",
          "height": 430
        },
        "id": "xklNcqzo18Fh",
        "outputId": "45ea8c30-7809-4160-eb14-0dc029b5c074"
      },
      "execution_count": null,
      "outputs": [
        {
          "output_type": "display_data",
          "data": {
            "text/plain": [
              "<Figure size 640x480 with 1 Axes>"
            ],
            "image/png": "[encoded data removed]"
          },
          "metadata": {}
        }
      ]
    },
    {
      "cell_type": "code",
      "source": [
        " # Adding a constant to X_test\n",
        "X_test_sm2 = sm.add_constant(X_test2)\n",
        "\n",
        "\n",
        "# Predicting the y values corresponding to X_test_sm\n",
        "y_test_pred2 = lr2.predict(X_test_sm2)\n",
        "\n",
        "\n",
        "# Printing the first 15 predicted values\n",
        "y_test_pred2\n"
      ],
      "metadata": {
        "colab": {
          "base_uri": "https://localhost:8080/"
        },
        "id": "SpJpt-Cu3dvy",
        "outputId": "8fdc8ce1-96c8-46eb-9deb-10b93b1cbaa0"
      },
      "execution_count": null,
      "outputs": [
        {
          "output_type": "execute_result",
          "data": {
            "text/plain": [
              "205    61901.398391\n",
              "44     55894.889163\n",
              "825    58637.127931\n",
              "459    58876.130393\n",
              "799    57869.804239\n",
              "           ...     \n",
              "697    59102.553777\n",
              "105    57404.378393\n",
              "480    61794.476238\n",
              "277    60140.327623\n",
              "69     58297.492854\n",
              "Length: 269, dtype: float64"
            ]
          },
          "metadata": {},
          "execution_count": 43
        }
      ]
    },
    {
      "cell_type": "code",
      "source": [
        "# Importing r2_square\n",
        "from sklearn.metrics import r2_score\n",
        "\n",
        "\n",
        "# Checking the R-squared value\n",
        "r_squared2 = r2_score(y_test2, y_test_pred2)\n",
        "r_squared2\n"
      ],
      "metadata": {
        "colab": {
          "base_uri": "https://localhost:8080/"
        },
        "id": "GI9PSN4k3oJJ",
        "outputId": "cde032ae-b839-4b8a-c86e-66d4e5c4a9e9"
      },
      "execution_count": null,
      "outputs": [
        {
          "output_type": "execute_result",
          "data": {
            "text/plain": [
              "0.001670764672769609"
            ]
          },
          "metadata": {},
          "execution_count": 44
        }
      ]
    },
    {
      "cell_type": "code",
      "source": [
        "# Visualize the line on the test set\n",
        "plt.scatter(X_test2, y_test2)\n",
        "plt.plot(X_test2, y_test_pred2, 'r')\n",
        "plt.show()\n"
      ],
      "metadata": {
        "colab": {
          "base_uri": "https://localhost:8080/",
          "height": 430
        },
        "id": "7NBG_lXS3qtE",
        "outputId": "25cea2ef-c20e-4a32-b75e-ca5f92d1d5f4"
      },
      "execution_count": null,
      "outputs": [
        {
          "output_type": "display_data",
          "data": {
            "text/plain": [
              "<Figure size 640x480 with 1 Axes>"
            ],
            "image/png": "[encoded data removed]"
          },
          "metadata": {}
        }
      ]
    },
    {
      "cell_type": "code",
      "source": [
        " # Splitting the data into train and test\n",
        "from sklearn.model_selection import train_test_split\n",
        "X_train_lm2, X_test_lm2, y_train_lm2, y_test_lm2 = train_test_split(Xs, ys, train_size = 0.7,\n",
        "                                                                test_size = 0.3, random_state = 100)\n",
        " # Shape of the train set without adding column\n",
        "X_train_lm2.shape\n"
      ],
      "metadata": {
        "colab": {
          "base_uri": "https://localhost:8080/"
        },
        "id": "RedjWgJN3u67",
        "outputId": "ab9ced87-aac2-42b8-b853-1faa63720773"
      },
      "execution_count": null,
      "outputs": [
        {
          "output_type": "execute_result",
          "data": {
            "text/plain": [
              "(627,)"
            ]
          },
          "metadata": {},
          "execution_count": 46
        }
      ]
    },
    {
      "cell_type": "code",
      "source": [
        "# Adding additional column to the train and test data\n",
        "X_train_lm2 = X_train_lm2.values.reshape(-1,1)\n",
        "X_test_lm2 = X_test_lm2.values.reshape(-1,1)\n",
        "\n",
        "\n",
        "print(X_train_lm2.shape)\n",
        "print(X_test_lm2.shape)\n"
      ],
      "metadata": {
        "colab": {
          "base_uri": "https://localhost:8080/"
        },
        "id": "Mkp7ANCa353R",
        "outputId": "c397c09d-fbc2-4ff2-e0a1-b1a6b03f66c6"
      },
      "execution_count": null,
      "outputs": [
        {
          "output_type": "stream",
          "name": "stdout",
          "text": [
            "(627, 1)\n",
            "(269, 1)\n"
          ]
        }
      ]
    },
    {
      "cell_type": "code",
      "source": [
        "from sklearn.linear_model import LinearRegression\n",
        "\n",
        "# Creating an object of Linear Regression\n",
        "lm2 = LinearRegression()\n",
        "\n",
        "\n",
        "# Fit the model using .fit() method\n",
        "lm2.fit(X_train_lm2, y_train_lm2)\n",
        "# Intercept value\n",
        "print(\"Intercept :\",lm2.intercept_)\n",
        "\n",
        "\n",
        "# Slope value\n",
        "print('Slope :',lm2.coef_)\n"
      ],
      "metadata": {
        "colab": {
          "base_uri": "https://localhost:8080/"
        },
        "id": "VrKlVYTo38vb",
        "outputId": "acd35efd-4c3a-43b4-e344-a37100ed53ad"
      },
      "execution_count": null,
      "outputs": [
        {
          "output_type": "stream",
          "name": "stdout",
          "text": [
            "Intercept : 48385.18024283055\n",
            "Slope : [6.28953846]\n"
          ]
        }
      ]
    },
    {
      "cell_type": "code",
      "source": [
        "# Making Predictions of y_value\n",
        "y_train_pred2 = lm2.predict(X_train_lm2)\n",
        "y_test_pred2 = lm2.predict(X_test_lm2)\n",
        "\n",
        "\n",
        "# Comparing the r2 value of both train and test data\n",
        "print(r2_score(y_train2,y_train_pred2))\n",
        "print(r2_score(y_test2,y_test_pred2))\n"
      ],
      "metadata": {
        "colab": {
          "base_uri": "https://localhost:8080/"
        },
        "id": "vee6twfQ4FD-",
        "outputId": "734dcc99-6060-48c5-d246-ebcff53de9d6"
      },
      "execution_count": null,
      "outputs": [
        {
          "output_type": "stream",
          "name": "stdout",
          "text": [
            "0.012365565075037832\n",
            "0.0016707646727699421\n"
          ]
        }
      ]
    },
    {
      "cell_type": "markdown",
      "source": [
        "#Task 2:\n",
        "###Question 2a:\n",
        "Write the applications of Linear Regression.**(10%)**\n"
      ],
      "metadata": {
        "id": "P5rByvRqu5T0"
      }
    },
    {
      "cell_type": "markdown",
      "source": [
        "linear regression is the statistical model which is basically used for prediction with the linear data.\n",
        "\n",
        "application of the linear regression :\n",
        "\n",
        "marketing and sales, linear regression is use for understanding the sales and marketing of the data. marketing data is used for future predicted sales based on the current data using linear regression model for predicting future sales.\n",
        "\n",
        "healthcare and medicine is also use linear regression for predicting the impact of the dependent variable to the independent variable. here, linear regression is use for predicting the patient condition, medicine impact, health care treatment effect and research outcomes using the linear regression for prediction.\n",
        "\n",
        "economic and finance is also use linear regression for analyse the relation between the economic data and predicted finance data. economic effects and finanicial data is predicted using the linear regression model. some area such as stock market, country gdp growth rate and interest rate of the property and any other area is predicted using the linear regression model.\n",
        "\n",
        "forecasting is use linear regression model for predicting the future  forcast using the current data. forecasting will be sales, demand and wether all the domain is use linear regression model for predicting the future data.\n",
        "\n",
        "social science is also use linear regression for understanding the human nature, where the data is about the education of the society about vote and income all the predicted using the linear regression.  \n",
        "\n",
        "machine learning and AI is use linear regression for predicting the complex use of the machine learning  algorithms. here, its use for understanding the relation between the variables before implimenting the advanced technique.\n",
        "\n",
        "engineering is also use the linear regression for predict the outcomes of the any task, such as developing the new technology and predict the outcome using the current data.\n",
        "\n",
        "in summarize, linear regression is widely use in almost every area whenever the data needs to do the prediction about the future based on the current actual data. linear regression is help to understand the difference and relation between the variables.\n",
        "\n",
        "\n",
        "\n"
      ],
      "metadata": {
        "id": "TBbfT9Q24VGP"
      }
    },
    {
      "cell_type": "markdown",
      "source": [
        "###Question 2b:\n",
        "What are the basic assumptions and disadvantages of the linear regression algorithm.**(10%)**"
      ],
      "metadata": {
        "id": "5nT9PBGP4Y19"
      }
    },
    {
      "cell_type": "markdown",
      "source": [
        "linear regression is use for predicting the analysis. this is widely use for almost all the domain and whenever its need to be predict then linear regression model is used.\n",
        "\n",
        "Basic Assumptions\n",
        "\n",
        "The different relation between the independent and dependent variable is assumed as linear which is known as linearity in linear regression.\n",
        "variance of the residuals for independent variable always needs to be constant for all the layers.\n",
        "residual needs to be always distributed.\n",
        "independent variables not be too highly in correlation with the each other.\n",
        "errors needs to be independent with each oother.\n",
        "\n",
        "Disadvantages\n",
        "\n",
        "if the linear relationship between the independent and dependent varibale then linear regression model may be not predict accurate data.\n",
        "if the model complexity is not choose correctly then there is chances of underfiting and overfiting.\n",
        "outlier is highly affect the linear regression if single data point is also consider as outlier then regression line then its affect.\n",
        "linear regression is capable to only capture the linearity of the independent and dependent variables, its limited if the more complex data and non-linear data and relationships.\n",
        "linear regression can not worked with the categorical feature they needs to be encode.\n",
        "if the data is failed to normality and homogeneity of variance assumption then may be model give the bias results or inaccurate predicted results.\n"
      ],
      "metadata": {
        "id": "NjIFL12JAKet"
      }
    },
    {
      "cell_type": "markdown",
      "source": [
        "#Task 3:\n",
        "####Question 3(a):\n",
        "Given the data of individuals and their healthcare charges billed by their insurance provider.Here, \"charges\" will be the dependent variable and all the other variables are independent variables.Create another feature based called BMI_group which groups people based on their BMI. The groups should be as follows:**(20%)**\n",
        "\n",
        "#####Underweight: BMI is less than 18.5.\n",
        "#####Normal: BMI is 18.5 to 24.9.\n",
        "#####Overweight: BMI is 25 to 29.9.\n",
        "#####Obese: BMI is 30 or more."
      ],
      "metadata": {
        "id": "2XBgtALGeVrx"
      }
    },
    {
      "cell_type": "code",
      "source": [
        "import pandas as pd\n",
        "\n",
        "insurance_df = pd.read_csv(\"insurance.csv\")\n",
        "\n",
        "def categorize_bmi(bmi):\n",
        "    if bmi < 18.5:\n",
        "        return \"Underweight\"\n",
        "    elif 18.5 <= bmi < 24.9:\n",
        "        return \"Normal\"\n",
        "    elif 25 <= bmi < 29.9:\n",
        "        return \"Overweight\"\n",
        "    else:\n",
        "        return \"Obese\"\n",
        "\n",
        "insurance_df[\"bmi_group\"] = insurance_df[\"bmi\"].apply(categorize_bmi)\n",
        "\n",
        "print(insurance_df.head(5))\n"
      ],
      "metadata": {
        "id": "CQwkQK4SgeQd",
        "colab": {
          "base_uri": "https://localhost:8080/"
        },
        "outputId": "34e0df11-c6a1-4b64-e88b-034e6f96d9b9"
      },
      "execution_count": null,
      "outputs": [
        {
          "output_type": "stream",
          "name": "stdout",
          "text": [
            "   age     sex     bmi  children smoker     region      charges   bmi_group\n",
            "0   19  female  27.900         0    yes  southwest  16884.92400  Overweight\n",
            "1   18    male  33.770         1     no  southeast   1725.55230       Obese\n",
            "2   28    male  33.000         3     no  southeast   4449.46200       Obese\n",
            "3   33    male  22.705         0     no  northwest  21984.47061      Normal\n",
            "4   32    male  28.880         0     no  northwest   3866.85520  Overweight\n"
          ]
        }
      ]
    },
    {
      "cell_type": "markdown",
      "source": [
        "####Question 3(b):\n",
        "Encode all categorical features such that they can be used in a regression model. i.e.sex, BMI_group, smoker and region should be labelled properly. Use the label encoder for all features.**(20%)**"
      ],
      "metadata": {
        "id": "_RNeyjweghM6"
      }
    },
    {
      "cell_type": "code",
      "source": [
        "import pandas as pd\n",
        "\n",
        "insurance_df = pd.read_csv(\"insurance.csv\")\n",
        "\n",
        "def categorize_bmi(bmi):\n",
        "    if bmi < 18.5:\n",
        "        return \"Underweight\"\n",
        "    elif 18.5 <= bmi < 24.9:\n",
        "        return \"Normal\"\n",
        "    elif 25 <= bmi < 29.9:\n",
        "        return \"Overweight\"\n",
        "    else:\n",
        "        return \"Obese\"\n",
        "\n",
        "insurance_df[\"bmi_group\"] = insurance_df[\"bmi\"].apply(categorize_bmi)\n",
        "\n",
        "from sklearn.preprocessing import LabelEncoder\n",
        "\n",
        "label_encoder = LabelEncoder()\n",
        "\n",
        "insurance_df['sex'] = label_encoder.fit_transform(insurance_df['sex'])\n",
        "\n",
        "insurance_df['smoker'] = label_encoder.fit_transform(insurance_df['smoker'])\n",
        "\n",
        "insurance_df['region'] = label_encoder.fit_transform(insurance_df['region'])\n",
        "\n",
        "\n",
        "insurance_df['bmi_group'] = label_encoder.fit_transform(insurance_df['bmi_group'])\n",
        "\n",
        "print(insurance_df.head())\n"
      ],
      "metadata": {
        "id": "VlOILPtkguD4",
        "colab": {
          "base_uri": "https://localhost:8080/"
        },
        "outputId": "d5d06a5d-86a5-40ee-e2be-57e1e040ef98"
      },
      "execution_count": null,
      "outputs": [
        {
          "output_type": "stream",
          "name": "stdout",
          "text": [
            "   age  sex     bmi  children  smoker  region      charges  bmi_group\n",
            "0   19    0  27.900         0       1       3  16884.92400          2\n",
            "1   18    1  33.770         1       0       2   1725.55230          1\n",
            "2   28    1  33.000         3       0       2   4449.46200          1\n",
            "3   33    1  22.705         0       0       1  21984.47061          0\n",
            "4   32    1  28.880         0       0       1   3866.85520          2\n"
          ]
        }
      ]
    },
    {
      "cell_type": "markdown",
      "source": [
        "**Linear Regression model**"
      ],
      "metadata": {
        "id": "HvRwYZZM8IE4"
      }
    },
    {
      "cell_type": "code",
      "source": [
        "from sklearn.model_selection import train_test_split\n",
        "from sklearn.linear_model import LinearRegression\n",
        "from sklearn.metrics import r2_score\n",
        "\n",
        "Xss = insurance_df[['age', 'sex', 'bmi', 'children', 'smoker', 'region', 'bmi_group']]\n",
        "\n",
        "yss = insurance_df['charges']\n",
        "\n",
        "X_trains, X_tests, y_trains, y_tests = train_test_split(Xss, yss, test_size=0.3, random_state=100)\n",
        "\n",
        "lms = LinearRegression()\n",
        "\n",
        "lms.fit(X_trains, y_trains)\n",
        "\n",
        "y_train_preds = lms.predict(X_trains)\n",
        "y_test_preds = lms.predict(X_tests)\n",
        "\n",
        "r2_trains = r2_score(y_trains, y_train_preds)\n",
        "r2_tests = r2_score(y_tests, y_test_preds)\n",
        "\n",
        "print(\"R-squared (Train):\", r2_trains)\n",
        "print(\"R-squared (Test):\", r2_tests)\n"
      ],
      "metadata": {
        "colab": {
          "base_uri": "https://localhost:8080/"
        },
        "id": "VgT15x-B8OEj",
        "outputId": "f57644bd-9c3c-4759-cb3b-3bd33f2262b4"
      },
      "execution_count": null,
      "outputs": [
        {
          "output_type": "stream",
          "name": "stdout",
          "text": [
            "R-squared (Train): 0.7385001763127967\n",
            "R-squared (Test): 0.7784844534186128\n"
          ]
        }
      ]
    }
  ]
}